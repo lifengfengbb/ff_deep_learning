{
 "cells": [
  {
   "cell_type": "markdown",
   "metadata": {},
   "source": [
    "# SAP Stock Price Prediction"
   ]
  },
  {
   "cell_type": "code",
   "execution_count": 1,
   "metadata": {
    "ExecuteTime": {
     "end_time": "2019-03-28T00:08:41.707830Z",
     "start_time": "2019-03-28T00:08:36.167373Z"
    }
   },
   "outputs": [],
   "source": [
    "import fix_yahoo_finance as yf\n",
    "import pandas as pd\n",
    "import datetime\n",
    "import matplotlib.pyplot as plt   # Import matplotlib\n",
    "from matplotlib.dates import DateFormatter, WeekdayLocator,\\\n",
    "    DayLocator, MONDAY\n",
    "from mpl_finance import candlestick_ohlc\n",
    "\n",
    "import numpy as np\n",
    "import math\n",
    "\n",
    "import torch\n",
    "from torch import nn\n",
    "from torch.autograd import Variable\n",
    "import torch.nn.functional as F\n",
    "\n",
    "# This line is necessary for the plot to appear in a Jupyter notebook\n",
    "%matplotlib inline"
   ]
  },
  {
   "cell_type": "code",
   "execution_count": 46,
   "metadata": {
    "ExecuteTime": {
     "end_time": "2019-03-28T01:31:23.168512Z",
     "start_time": "2019-03-28T01:31:23.163469Z"
    }
   },
   "outputs": [],
   "source": [
    "# setup the folder path\n",
    "path = 'C:\\\\Users\\\\fenli\\\\OneDrive - Deloitte (O365D)\\\\Deep learning\\\\Learning\\\\'\n",
    "path_data = path + 'Data\\\\'\n",
    "path_model = path + 'Model\\\\'"
   ]
  },
  {
   "cell_type": "code",
   "execution_count": 3,
   "metadata": {
    "ExecuteTime": {
     "end_time": "2019-03-28T00:15:11.091173Z",
     "start_time": "2019-03-28T00:15:11.088165Z"
    }
   },
   "outputs": [],
   "source": [
    "# setup the period to get the stock data\n",
    "start_date = \"2003-01-01\"\n",
    "end_date = \"2019-03-27\""
   ]
  },
  {
   "cell_type": "code",
   "execution_count": 4,
   "metadata": {
    "ExecuteTime": {
     "end_time": "2019-03-27T22:05:08.465245Z",
     "start_time": "2019-03-27T22:05:03.900968Z"
    }
   },
   "outputs": [
    {
     "name": "stdout",
     "output_type": "stream",
     "text": [
      "[*********************100%***********************]  1 of 1 downloaded\n",
      "[*********************100%***********************]  1 of 1 downloaded\n"
     ]
    }
   ],
   "source": [
    "# download data using fix_yahoo_finance from YAHOO\n",
    "data_sap = yf.download(\"SAP.DE\", start=start_date, end=end_date)\n",
    "data_oracle = yf.download(\"ORCL\", start=start_date, end=end_date)"
   ]
  },
  {
   "cell_type": "code",
   "execution_count": 9,
   "metadata": {
    "ExecuteTime": {
     "end_time": "2019-03-27T22:11:07.369167Z",
     "start_time": "2019-03-27T22:11:07.331218Z"
    }
   },
   "outputs": [],
   "source": [
    "# save data\n",
    "data_sap.to_pickle(path_data + 'sap_stock_price')\n",
    "data_oracle.to_pickle(path_data + 'oracle_stock_price')"
   ]
  },
  {
   "cell_type": "code",
   "execution_count": 4,
   "metadata": {
    "ExecuteTime": {
     "end_time": "2019-03-28T00:15:50.235228Z",
     "start_time": "2019-03-28T00:15:50.138758Z"
    }
   },
   "outputs": [],
   "source": [
    "# load data \n",
    "data_sap = pd.read_pickle(path_data + 'sap_stock_price')\n",
    "data_oracle = pd.read_pickle(path_data + 'oracle_stock_price')"
   ]
  },
  {
   "cell_type": "code",
   "execution_count": 5,
   "metadata": {
    "ExecuteTime": {
     "end_time": "2019-03-28T00:15:51.950656Z",
     "start_time": "2019-03-28T00:15:51.938627Z"
    },
    "scrolled": true
   },
   "outputs": [
    {
     "data": {
      "text/html": [
       "<div>\n",
       "<style scoped>\n",
       "    .dataframe tbody tr th:only-of-type {\n",
       "        vertical-align: middle;\n",
       "    }\n",
       "\n",
       "    .dataframe tbody tr th {\n",
       "        vertical-align: top;\n",
       "    }\n",
       "\n",
       "    .dataframe thead th {\n",
       "        text-align: right;\n",
       "    }\n",
       "</style>\n",
       "<table border=\"1\" class=\"dataframe\">\n",
       "  <thead>\n",
       "    <tr style=\"text-align: right;\">\n",
       "      <th></th>\n",
       "      <th>Open</th>\n",
       "      <th>High</th>\n",
       "      <th>Low</th>\n",
       "      <th>Close</th>\n",
       "      <th>Adj Close</th>\n",
       "      <th>Volume</th>\n",
       "    </tr>\n",
       "    <tr>\n",
       "      <th>Date</th>\n",
       "      <th></th>\n",
       "      <th></th>\n",
       "      <th></th>\n",
       "      <th></th>\n",
       "      <th></th>\n",
       "      <th></th>\n",
       "    </tr>\n",
       "  </thead>\n",
       "  <tbody>\n",
       "    <tr>\n",
       "      <th>2002-12-31</th>\n",
       "      <td>18.879999</td>\n",
       "      <td>18.879999</td>\n",
       "      <td>18.879999</td>\n",
       "      <td>18.879999</td>\n",
       "      <td>13.962929</td>\n",
       "      <td>0</td>\n",
       "    </tr>\n",
       "    <tr>\n",
       "      <th>2003-01-01</th>\n",
       "      <td>18.879999</td>\n",
       "      <td>18.879999</td>\n",
       "      <td>18.879999</td>\n",
       "      <td>18.879999</td>\n",
       "      <td>13.962929</td>\n",
       "      <td>0</td>\n",
       "    </tr>\n",
       "    <tr>\n",
       "      <th>2003-01-02</th>\n",
       "      <td>18.725000</td>\n",
       "      <td>20.334999</td>\n",
       "      <td>18.530001</td>\n",
       "      <td>20.200001</td>\n",
       "      <td>14.939153</td>\n",
       "      <td>4668528</td>\n",
       "    </tr>\n",
       "    <tr>\n",
       "      <th>2003-01-03</th>\n",
       "      <td>20.424999</td>\n",
       "      <td>21.500000</td>\n",
       "      <td>20.262501</td>\n",
       "      <td>21.522499</td>\n",
       "      <td>15.917223</td>\n",
       "      <td>7698848</td>\n",
       "    </tr>\n",
       "    <tr>\n",
       "      <th>2003-01-06</th>\n",
       "      <td>21.475000</td>\n",
       "      <td>22.222500</td>\n",
       "      <td>21.010000</td>\n",
       "      <td>21.947500</td>\n",
       "      <td>16.231535</td>\n",
       "      <td>6265092</td>\n",
       "    </tr>\n",
       "  </tbody>\n",
       "</table>\n",
       "</div>"
      ],
      "text/plain": [
       "                 Open       High        Low      Close  Adj Close   Volume\n",
       "Date                                                                      \n",
       "2002-12-31  18.879999  18.879999  18.879999  18.879999  13.962929        0\n",
       "2003-01-01  18.879999  18.879999  18.879999  18.879999  13.962929        0\n",
       "2003-01-02  18.725000  20.334999  18.530001  20.200001  14.939153  4668528\n",
       "2003-01-03  20.424999  21.500000  20.262501  21.522499  15.917223  7698848\n",
       "2003-01-06  21.475000  22.222500  21.010000  21.947500  16.231535  6265092"
      ]
     },
     "execution_count": 5,
     "metadata": {},
     "output_type": "execute_result"
    }
   ],
   "source": [
    "data_sap.head()"
   ]
  },
  {
   "cell_type": "code",
   "execution_count": 6,
   "metadata": {
    "ExecuteTime": {
     "end_time": "2019-03-28T00:16:02.198813Z",
     "start_time": "2019-03-28T00:16:01.940649Z"
    },
    "scrolled": false
   },
   "outputs": [
    {
     "data": {
      "text/plain": [
       "<matplotlib.legend.Legend at 0x1ac5b6651d0>"
      ]
     },
     "execution_count": 6,
     "metadata": {},
     "output_type": "execute_result"
    },
    {
     "data": {
      "image/png": "[encoded data removed]",
      "text/plain": [
       "<Figure size 1152x576 with 1 Axes>"
      ]
     },
     "metadata": {
      "needs_background": "light"
     },
     "output_type": "display_data"
    }
   ],
   "source": [
    "#plot\n",
    "plt.figure(figsize=(16,8))\n",
    "plt.plot(data_sap['Close'], label='SAP.DE')\n",
    "plt.plot(data_oracle['Close'], label='ORCL')\n",
    "plt.ylabel('Close price')\n",
    "plt.xlabel('Date')\n",
    "plt.legend()"
   ]
  },
  {
   "cell_type": "markdown",
   "metadata": {},
   "source": [
    "# Modelling"
   ]
  },
  {
   "cell_type": "markdown",
   "metadata": {},
   "source": [
    "## A Simple LSTM Model"
   ]
  },
  {
   "cell_type": "code",
   "execution_count": 7,
   "metadata": {
    "ExecuteTime": {
     "end_time": "2019-03-28T00:16:38.590670Z",
     "start_time": "2019-03-28T00:16:38.586686Z"
    }
   },
   "outputs": [],
   "source": [
    "# use number of previous days value to predict next day value\n",
    "# tried look_back = 5, overfitting for 100 epochs\n",
    "look_back = 40"
   ]
  },
  {
   "cell_type": "code",
   "execution_count": 8,
   "metadata": {
    "ExecuteTime": {
     "end_time": "2019-03-28T00:16:39.364078Z",
     "start_time": "2019-03-28T00:16:39.360071Z"
    }
   },
   "outputs": [],
   "source": [
    "# define a function to split the data based on the look_back period\n",
    "def create_dataset(dataset, look_back=look_back):\n",
    "    dataX, dataY = [], []\n",
    "    for i in range(len(dataset) - look_back):\n",
    "        a = dataset[i:(i + look_back)]\n",
    "        dataX.append(a)\n",
    "        dataY.append(dataset[i + look_back])\n",
    "    return np.array(dataX), np.array(dataY)"
   ]
  },
  {
   "cell_type": "code",
   "execution_count": null,
   "metadata": {},
   "outputs": [],
   "source": []
  },
  {
   "cell_type": "code",
   "execution_count": 236,
   "metadata": {
    "ExecuteTime": {
     "end_time": "2019-03-28T05:02:36.627271Z",
     "start_time": "2019-03-28T05:02:36.621317Z"
    },
    "scrolled": true
   },
   "outputs": [
    {
     "data": {
      "text/plain": [
       "Index(['Date', 'Open', 'High', 'Low', 'Close', 'Adj Close', 'Volume'], dtype='object')"
      ]
     },
     "execution_count": 236,
     "metadata": {},
     "output_type": "execute_result"
    }
   ],
   "source": [
    "df = data_sap.reset_index()\n",
    "df.columns"
   ]
  },
  {
   "cell_type": "code",
   "execution_count": 237,
   "metadata": {
    "ExecuteTime": {
     "end_time": "2019-03-28T05:02:37.988513Z",
     "start_time": "2019-03-28T05:02:37.982497Z"
    }
   },
   "outputs": [],
   "source": [
    "df_d = df[['Date']]\n",
    "df = df[['Close']]"
   ]
  },
  {
   "cell_type": "code",
   "execution_count": 238,
   "metadata": {
    "ExecuteTime": {
     "end_time": "2019-03-28T05:02:41.631003Z",
     "start_time": "2019-03-28T05:02:41.626947Z"
    }
   },
   "outputs": [],
   "source": [
    "dataset = df.Close   # only select the 'Close' the closing price\n",
    "dataset_d = df_d.Date "
   ]
  },
  {
   "cell_type": "code",
   "execution_count": 239,
   "metadata": {
    "ExecuteTime": {
     "end_time": "2019-03-28T05:02:43.748712Z",
     "start_time": "2019-03-28T05:02:43.742707Z"
    }
   },
   "outputs": [],
   "source": [
    "dataset = dataset.astype('float32')\n",
    "max_value = np.max(dataset)\n",
    "min_value = np.min(dataset)\n",
    "scalar = max_value - min_value\n",
    "#dataset = list(map(lambda x: x / scalar, dataset))\n",
    "dataset = dataset / scalar   # data normolisation using max and min"
   ]
  },
  {
   "cell_type": "code",
   "execution_count": 241,
   "metadata": {
    "ExecuteTime": {
     "end_time": "2019-03-28T05:02:58.003689Z",
     "start_time": "2019-03-28T05:02:54.204383Z"
    }
   },
   "outputs": [],
   "source": [
    "# create data set\n",
    "data_X, data_Y = create_dataset(dataset)\n",
    "data_X_d, data_Y_d = create_dataset(dataset_d)"
   ]
  },
  {
   "cell_type": "code",
   "execution_count": 242,
   "metadata": {
    "ExecuteTime": {
     "end_time": "2019-03-28T05:02:59.275881Z",
     "start_time": "2019-03-28T05:02:59.268862Z"
    }
   },
   "outputs": [
    {
     "data": {
      "text/plain": [
       "array([0.23680373, 0.24147984, 0.2454958 , 0.23628111, 0.2489341 ,\n",
       "       0.25812128, 0.25223488, 0.25369275, 0.24962178, 0.24546827,\n",
       "       0.23441066, 0.23105486, 0.23055975, 0.23339291, 0.24167238,\n",
       "       0.23182504, 0.23064226, 0.23490578, 0.2299546 , 0.23661117,\n",
       "       0.23562096, 0.24197496, 0.23487827, 0.23793149, 0.23509833,\n",
       "       0.23353046, 0.23196259, 0.23892173, 0.23754641, 0.23518084,\n",
       "       0.22802915, 0.23471324, 0.240077  , 0.23311785, 0.23432815,\n",
       "       0.2350433 , 0.23600605, 0.22541602, 0.22252785, 0.21166275],\n",
       "      dtype=float32)"
      ]
     },
     "execution_count": 242,
     "metadata": {},
     "output_type": "execute_result"
    }
   ],
   "source": [
    "data_X[3,:]"
   ]
  },
  {
   "cell_type": "code",
   "execution_count": 243,
   "metadata": {
    "ExecuteTime": {
     "end_time": "2019-03-28T05:03:00.981953Z",
     "start_time": "2019-03-28T05:03:00.975959Z"
    }
   },
   "outputs": [
    {
     "data": {
      "text/plain": [
       "0.21221289"
      ]
     },
     "execution_count": 243,
     "metadata": {},
     "output_type": "execute_result"
    }
   ],
   "source": [
    "data_Y[3]"
   ]
  },
  {
   "cell_type": "code",
   "execution_count": 244,
   "metadata": {
    "ExecuteTime": {
     "end_time": "2019-03-28T05:03:02.635754Z",
     "start_time": "2019-03-28T05:03:02.630763Z"
    }
   },
   "outputs": [],
   "source": [
    "train_size = int(len(data_X) * 0.8)\n",
    "test_size = len(data_X) - train_size\n",
    "train_X = data_X[:train_size]\n",
    "train_Y = data_Y[:train_size]\n",
    "test_X = data_X[train_size:]\n",
    "test_Y = data_Y[train_size:]"
   ]
  },
  {
   "cell_type": "code",
   "execution_count": 185,
   "metadata": {
    "ExecuteTime": {
     "end_time": "2019-03-28T04:33:47.664692Z",
     "start_time": "2019-03-28T04:33:47.659650Z"
    }
   },
   "outputs": [
    {
     "data": {
      "text/plain": [
       "(3283, 40)"
      ]
     },
     "execution_count": 185,
     "metadata": {},
     "output_type": "execute_result"
    }
   ],
   "source": [
    "train_X.shape"
   ]
  },
  {
   "cell_type": "code",
   "execution_count": 186,
   "metadata": {
    "ExecuteTime": {
     "end_time": "2019-03-28T04:33:50.971431Z",
     "start_time": "2019-03-28T04:33:50.965917Z"
    }
   },
   "outputs": [
    {
     "data": {
      "text/plain": [
       "(3283,)"
      ]
     },
     "execution_count": 186,
     "metadata": {},
     "output_type": "execute_result"
    }
   ],
   "source": [
    "train_Y.shape"
   ]
  },
  {
   "cell_type": "code",
   "execution_count": 187,
   "metadata": {
    "ExecuteTime": {
     "end_time": "2019-03-28T04:33:52.626798Z",
     "start_time": "2019-03-28T04:33:52.621779Z"
    }
   },
   "outputs": [],
   "source": [
    "train_X = train_X.reshape(-1, 1, look_back)\n",
    "train_Y = train_Y.reshape(-1, 1, 1)\n",
    "test_X = test_X.reshape(-1, 1, look_back)\n",
    "test_Y = test_Y.reshape(-1, 1, 1)"
   ]
  },
  {
   "cell_type": "code",
   "execution_count": 188,
   "metadata": {
    "ExecuteTime": {
     "end_time": "2019-03-28T04:33:53.672954Z",
     "start_time": "2019-03-28T04:33:53.667439Z"
    }
   },
   "outputs": [],
   "source": [
    "train_x = torch.from_numpy(train_X)\n",
    "train_y = torch.from_numpy(train_Y)\n",
    "test_x = torch.from_numpy(test_X)\n",
    "test_y = torch.from_numpy(test_Y)"
   ]
  },
  {
   "cell_type": "code",
   "execution_count": 76,
   "metadata": {
    "ExecuteTime": {
     "end_time": "2019-03-28T02:08:42.544546Z",
     "start_time": "2019-03-28T02:08:42.537056Z"
    }
   },
   "outputs": [],
   "source": [
    "class lstm_reg(nn.Module):\n",
    "    def __init__(self, input_size, hidden_size, output_size=1, num_layers=2):\n",
    "        super(lstm_reg, self).__init__()\n",
    "        \n",
    "        self.rnn = nn.LSTM(input_size, hidden_size, num_layers) # rnn\n",
    "        self.reg = nn.Linear(hidden_size, output_size) # linner\n",
    "        \n",
    "    def forward(self, x):\n",
    "        x, _ = self.rnn(x) # (seq, batch, hidden)\n",
    "        s, b, h = x.shape\n",
    "        x = x.view(s*b, h) # linner\n",
    "        x = self.reg(x)\n",
    "        x = x.view(s, b, -1)\n",
    "        return x"
   ]
  },
  {
   "cell_type": "code",
   "execution_count": 77,
   "metadata": {
    "ExecuteTime": {
     "end_time": "2019-03-28T02:08:45.196599Z",
     "start_time": "2019-03-28T02:08:45.191629Z"
    }
   },
   "outputs": [],
   "source": [
    "# build your model\n",
    "net = lstm_reg(input_size=look_back, hidden_size=60,output_size=1,num_layers=2)"
   ]
  },
  {
   "cell_type": "code",
   "execution_count": 78,
   "metadata": {
    "ExecuteTime": {
     "end_time": "2019-03-28T02:08:46.850647Z",
     "start_time": "2019-03-28T02:08:46.845619Z"
    }
   },
   "outputs": [],
   "source": [
    "criterion = nn.MSELoss()\n",
    "optimizer = torch.optim.Adam(net.parameters(), lr=1e-2)"
   ]
  },
  {
   "cell_type": "code",
   "execution_count": 24,
   "metadata": {
    "ExecuteTime": {
     "end_time": "2019-03-28T00:18:40.964181Z",
     "start_time": "2019-03-28T00:18:40.957663Z"
    },
    "scrolled": false
   },
   "outputs": [
    {
     "data": {
      "text/plain": [
       "tensor([[[0.2077, 0.2077, 0.2223,  ..., 0.2343, 0.2350, 0.2360]],\n",
       "\n",
       "        [[0.2077, 0.2223, 0.2368,  ..., 0.2350, 0.2360, 0.2254]],\n",
       "\n",
       "        [[0.2223, 0.2368, 0.2415,  ..., 0.2360, 0.2254, 0.2225]],\n",
       "\n",
       "        ...,\n",
       "\n",
       "        [[0.7958, 0.8078, 0.8041,  ..., 0.8032, 0.8032, 0.8017]],\n",
       "\n",
       "        [[0.8078, 0.8041, 0.8114,  ..., 0.8032, 0.8017, 0.8155]],\n",
       "\n",
       "        [[0.8041, 0.8114, 0.8047,  ..., 0.8017, 0.8155, 0.8074]]])"
      ]
     },
     "execution_count": 24,
     "metadata": {},
     "output_type": "execute_result"
    }
   ],
   "source": [
    "train_x"
   ]
  },
  {
   "cell_type": "code",
   "execution_count": 86,
   "metadata": {
    "ExecuteTime": {
     "end_time": "2019-03-28T02:39:21.366489Z",
     "start_time": "2019-03-28T02:33:30.984674Z"
    },
    "scrolled": true
   },
   "outputs": [
    {
     "name": "stdout",
     "output_type": "stream",
     "text": [
      "Epoch: 1, Train loss: 0.00031, Val loss: 0.01440\n",
      "Epoch: 2, Train loss: 0.00031, Val loss: 0.01432\n",
      "Epoch: 3, Train loss: 0.00031, Val loss: 0.01412\n",
      "Epoch: 4, Train loss: 0.00031, Val loss: 0.01369\n",
      "Epoch: 5, Train loss: 0.00030, Val loss: 0.01358\n",
      "Epoch: 6, Train loss: 0.00030, Val loss: 0.01345\n",
      "Epoch: 7, Train loss: 0.00030, Val loss: 0.01307\n",
      "Epoch: 8, Train loss: 0.00030, Val loss: 0.01296\n",
      "Epoch: 9, Train loss: 0.00030, Val loss: 0.01286\n",
      "Epoch: 10, Train loss: 0.00030, Val loss: 0.01251\n",
      "Epoch: 11, Train loss: 0.00029, Val loss: 0.01242\n",
      "Epoch: 12, Train loss: 0.00029, Val loss: 0.01230\n",
      "Epoch: 13, Train loss: 0.00029, Val loss: 0.01200\n",
      "Epoch: 14, Train loss: 0.00029, Val loss: 0.01194\n",
      "Epoch: 15, Train loss: 0.00029, Val loss: 0.01181\n",
      "Epoch: 16, Train loss: 0.00029, Val loss: 0.01155\n",
      "Epoch: 17, Train loss: 0.00029, Val loss: 0.01152\n",
      "Epoch: 18, Train loss: 0.00029, Val loss: 0.01136\n",
      "Epoch: 19, Train loss: 0.00029, Val loss: 0.01116\n",
      "Epoch: 20, Train loss: 0.00028, Val loss: 0.01115\n",
      "Epoch: 21, Train loss: 0.00028, Val loss: 0.01095\n",
      "Epoch: 22, Train loss: 0.00028, Val loss: 0.01082\n",
      "Epoch: 23, Train loss: 0.00028, Val loss: 0.01078\n",
      "Epoch: 24, Train loss: 0.00028, Val loss: 0.01057\n",
      "Epoch: 25, Train loss: 0.00028, Val loss: 0.01052\n",
      "Epoch: 26, Train loss: 0.00028, Val loss: 0.01042\n",
      "Epoch: 27, Train loss: 0.00028, Val loss: 0.01025\n",
      "Epoch: 28, Train loss: 0.00028, Val loss: 0.01024\n",
      "Epoch: 29, Train loss: 0.00027, Val loss: 0.01008\n",
      "Epoch: 30, Train loss: 0.00027, Val loss: 0.00999\n",
      "Epoch: 31, Train loss: 0.00027, Val loss: 0.00994\n",
      "Epoch: 32, Train loss: 0.00027, Val loss: 0.00977\n",
      "Epoch: 33, Train loss: 0.00027, Val loss: 0.00975\n",
      "Epoch: 34, Train loss: 0.00027, Val loss: 0.00961\n",
      "Epoch: 35, Train loss: 0.00027, Val loss: 0.00952\n",
      "Epoch: 36, Train loss: 0.00027, Val loss: 0.00947\n",
      "Epoch: 37, Train loss: 0.00027, Val loss: 0.00932\n",
      "Epoch: 38, Train loss: 0.00027, Val loss: 0.00930\n",
      "Epoch: 39, Train loss: 0.00026, Val loss: 0.00916\n",
      "Epoch: 40, Train loss: 0.00026, Val loss: 0.00911\n",
      "Epoch: 41, Train loss: 0.00026, Val loss: 0.00903\n",
      "Epoch: 42, Train loss: 0.00026, Val loss: 0.00892\n",
      "Epoch: 43, Train loss: 0.00026, Val loss: 0.00888\n",
      "Epoch: 44, Train loss: 0.00026, Val loss: 0.00875\n",
      "Epoch: 45, Train loss: 0.00026, Val loss: 0.00873\n",
      "Epoch: 46, Train loss: 0.00026, Val loss: 0.00860\n",
      "Epoch: 47, Train loss: 0.00026, Val loss: 0.00858\n",
      "Epoch: 48, Train loss: 0.00026, Val loss: 0.00846\n",
      "Epoch: 49, Train loss: 0.00026, Val loss: 0.00843\n",
      "Epoch: 50, Train loss: 0.00026, Val loss: 0.00832\n",
      "Epoch: 51, Train loss: 0.00025, Val loss: 0.00829\n",
      "Epoch: 52, Train loss: 0.00025, Val loss: 0.00819\n",
      "Epoch: 53, Train loss: 0.00025, Val loss: 0.00815\n",
      "Epoch: 54, Train loss: 0.00025, Val loss: 0.00805\n",
      "Epoch: 55, Train loss: 0.00025, Val loss: 0.00803\n",
      "Epoch: 56, Train loss: 0.00025, Val loss: 0.00791\n",
      "Epoch: 57, Train loss: 0.00025, Val loss: 0.00792\n",
      "Epoch: 58, Train loss: 0.00025, Val loss: 0.00776\n",
      "Epoch: 59, Train loss: 0.00025, Val loss: 0.00784\n",
      "Epoch: 60, Train loss: 0.00025, Val loss: 0.00757\n",
      "Epoch: 61, Train loss: 0.00026, Val loss: 0.00784\n",
      "Epoch: 62, Train loss: 0.00027, Val loss: 0.00730\n",
      "Epoch: 63, Train loss: 0.00032, Val loss: 0.00812\n",
      "Epoch: 64, Train loss: 0.00044, Val loss: 0.00689\n",
      "Epoch: 65, Train loss: 0.00073, Val loss: 0.00950\n",
      "Epoch: 66, Train loss: 0.00134, Val loss: 0.00662\n",
      "Epoch: 67, Train loss: 0.00167, Val loss: 0.01338\n",
      "Epoch: 68, Train loss: 0.00110, Val loss: 0.00742\n",
      "Epoch: 69, Train loss: 0.00027, Val loss: 0.01015\n",
      "Epoch: 70, Train loss: 0.00089, Val loss: 0.01473\n",
      "Epoch: 71, Train loss: 0.00058, Val loss: 0.00999\n",
      "Epoch: 72, Train loss: 0.00039, Val loss: 0.01112\n",
      "Epoch: 73, Train loss: 0.00072, Val loss: 0.01543\n",
      "Epoch: 74, Train loss: 0.00027, Val loss: 0.01320\n",
      "Epoch: 75, Train loss: 0.00062, Val loss: 0.01192\n",
      "Epoch: 76, Train loss: 0.00030, Val loss: 0.01439\n",
      "Epoch: 77, Train loss: 0.00053, Val loss: 0.01612\n",
      "Epoch: 78, Train loss: 0.00034, Val loss: 0.01407\n",
      "Epoch: 79, Train loss: 0.00043, Val loss: 0.01415\n",
      "Epoch: 80, Train loss: 0.00036, Val loss: 0.01674\n",
      "Epoch: 81, Train loss: 0.00037, Val loss: 0.01723\n",
      "Epoch: 82, Train loss: 0.00037, Val loss: 0.01558\n",
      "Epoch: 83, Train loss: 0.00034, Val loss: 0.01605\n",
      "Epoch: 84, Train loss: 0.00036, Val loss: 0.01821\n",
      "Epoch: 85, Train loss: 0.00033, Val loss: 0.01817\n",
      "Epoch: 86, Train loss: 0.00034, Val loss: 0.01659\n",
      "Epoch: 87, Train loss: 0.00032, Val loss: 0.01683\n",
      "Epoch: 88, Train loss: 0.00033, Val loss: 0.01835\n",
      "Epoch: 89, Train loss: 0.00031, Val loss: 0.01806\n",
      "Epoch: 90, Train loss: 0.00032, Val loss: 0.01655\n",
      "Epoch: 91, Train loss: 0.00030, Val loss: 0.01651\n",
      "Epoch: 92, Train loss: 0.00031, Val loss: 0.01753\n",
      "Epoch: 93, Train loss: 0.00029, Val loss: 0.01714\n",
      "Epoch: 94, Train loss: 0.00030, Val loss: 0.01581\n",
      "Epoch: 95, Train loss: 0.00029, Val loss: 0.01569\n",
      "Epoch: 96, Train loss: 0.00029, Val loss: 0.01638\n",
      "Epoch: 97, Train loss: 0.00028, Val loss: 0.01589\n",
      "Epoch: 98, Train loss: 0.00029, Val loss: 0.01473\n",
      "Epoch: 99, Train loss: 0.00027, Val loss: 0.01461\n",
      "Epoch: 100, Train loss: 0.00028, Val loss: 0.01501\n"
     ]
    }
   ],
   "source": [
    "for epoch in range(100):\n",
    "    var_x = Variable(train_x)\n",
    "    var_y = Variable(train_y)\n",
    "    var_x_test = Variable(test_x)\n",
    "    var_y_test = Variable(test_y)\n",
    "    # forward\n",
    "    out = net(var_x)\n",
    "    loss = criterion(out, var_y)\n",
    "    out_test = net(var_x_test)\n",
    "    loss_test = criterion(out_test, var_y_test)\n",
    "    # backward\n",
    "    optimizer.zero_grad()\n",
    "    loss.backward()\n",
    "    optimizer.step()\n",
    "    if (epoch + 1) % 1 == 0: # print every 1 epoch\n",
    "        print('Epoch: {}, Train loss: {:.5f}, Val loss: {:.5f}'.format(epoch + 1, loss.data, loss_test.data))\n",
    "        \n",
    "    # save model in every 10 epoch\n",
    "    if (epoch + 1) % 10 == 0:\n",
    "        #torch.save(net.state_dict(), path_model+'train_valid_exp4-epoch{}.pth'.format(epoch+1)) \n",
    "        torch.save({\n",
    "            'epoch': epoch,\n",
    "            'model_state_dict': net.state_dict(),\n",
    "            'optimizer_state_dict': optimizer.state_dict(),\n",
    "            'loss': loss\n",
    "            }, path_model+'train_valid_exp4-epoch{}.pth'.format(epoch+1))      "
   ]
  },
  {
   "cell_type": "code",
   "execution_count": 89,
   "metadata": {
    "ExecuteTime": {
     "end_time": "2019-03-28T02:41:55.153355Z",
     "start_time": "2019-03-28T02:41:55.149343Z"
    }
   },
   "outputs": [
    {
     "data": {
      "text/plain": [
       "'C:\\\\Users\\\\fenli\\\\OneDrive - Deloitte (O365D)\\\\Deep learning\\\\Learning\\\\Model\\\\train_valid_exp4-epoch60.pth'"
      ]
     },
     "execution_count": 89,
     "metadata": {},
     "output_type": "execute_result"
    }
   ],
   "source": [
    "epoch = 60\n",
    "path_model+'train_valid_exp4-epoch{}.pth'.format(epoch)"
   ]
  },
  {
   "cell_type": "code",
   "execution_count": 91,
   "metadata": {
    "ExecuteTime": {
     "end_time": "2019-03-28T02:42:23.390477Z",
     "start_time": "2019-03-28T02:42:23.377001Z"
    },
    "scrolled": true
   },
   "outputs": [
    {
     "data": {
      "text/plain": [
       "lstm_reg(\n",
       "  (rnn): LSTM(40, 60, num_layers=2)\n",
       "  (reg): Linear(in_features=60, out_features=1, bias=True)\n",
       ")"
      ]
     },
     "execution_count": 91,
     "metadata": {},
     "output_type": "execute_result"
    }
   ],
   "source": [
    "## to get back the saved model with specific epoch\n",
    "epoch = 60\n",
    "PATH = path_model+'train_valid_exp4-epoch{}.pth'.format(epoch)\n",
    "checkpoint = torch.load(PATH)\n",
    "net.load_state_dict(checkpoint['model_state_dict'])\n",
    "optimizer.load_state_dict(checkpoint['optimizer_state_dict'])\n",
    "epoch = checkpoint['epoch']\n",
    "loss = checkpoint['loss']\n",
    "\n",
    "net.eval()\n",
    "# - or -\n",
    "#net.train()"
   ]
  },
  {
   "cell_type": "code",
   "execution_count": 101,
   "metadata": {
    "ExecuteTime": {
     "end_time": "2019-03-28T02:49:03.142957Z",
     "start_time": "2019-03-28T02:49:03.127412Z"
    }
   },
   "outputs": [],
   "source": [
    "# same the best model so far\n",
    "## setup the path to store the model\n",
    "filename = 'SAP_LSTM'\n",
    "filetype = 'state_dict'\n",
    "filedate = '20190328_best1'\n",
    "file_inference = path_model + filename + '_' + filetype + '_' + filedate + '.pth'\n",
    "file_full = path_model + filename + '_' + filedate + '.pth'\n",
    "torch.save(net.state_dict(), file_inference)   # inference\n",
    "net.load_state_dict(torch.load(file_inference))"
   ]
  },
  {
   "cell_type": "code",
   "execution_count": 113,
   "metadata": {
    "ExecuteTime": {
     "end_time": "2019-03-28T03:02:36.501597Z",
     "start_time": "2019-03-28T03:02:36.495580Z"
    }
   },
   "outputs": [
    {
     "data": {
      "text/plain": [
       "lstm_reg(\n",
       "  (rnn): LSTM(40, 60, num_layers=2)\n",
       "  (reg): Linear(in_features=60, out_features=1, bias=True)\n",
       ")"
      ]
     },
     "execution_count": 113,
     "metadata": {},
     "output_type": "execute_result"
    }
   ],
   "source": [
    "# start to train a\n",
    "net.train()"
   ]
  },
  {
   "cell_type": "code",
   "execution_count": 103,
   "metadata": {
    "ExecuteTime": {
     "end_time": "2019-03-28T02:49:47.265589Z",
     "start_time": "2019-03-28T02:49:47.260577Z"
    }
   },
   "outputs": [],
   "source": [
    "# now lets choose a smaller learning rate\n",
    "criterion = nn.MSELoss()\n",
    "optimizer = torch.optim.Adam(net.parameters(), lr=1e-3)"
   ]
  },
  {
   "cell_type": "code",
   "execution_count": 114,
   "metadata": {
    "ExecuteTime": {
     "end_time": "2019-03-28T03:06:52.997670Z",
     "start_time": "2019-03-28T03:02:43.256935Z"
    },
    "scrolled": true
   },
   "outputs": [
    {
     "name": "stdout",
     "output_type": "stream",
     "text": [
      "Epoch: 1, Train loss: 0.00017, Val loss: 0.00169\n",
      "Epoch: 2, Train loss: 0.00018, Val loss: 0.00163\n",
      "Epoch: 3, Train loss: 0.00017, Val loss: 0.00166\n",
      "Epoch: 4, Train loss: 0.00018, Val loss: 0.00169\n",
      "Epoch: 5, Train loss: 0.00017, Val loss: 0.00161\n",
      "Epoch: 6, Train loss: 0.00017, Val loss: 0.00157\n",
      "Epoch: 7, Train loss: 0.00017, Val loss: 0.00160\n",
      "Epoch: 8, Train loss: 0.00017, Val loss: 0.00159\n",
      "Epoch: 9, Train loss: 0.00017, Val loss: 0.00153\n",
      "Epoch: 10, Train loss: 0.00017, Val loss: 0.00152\n",
      "Epoch: 11, Train loss: 0.00017, Val loss: 0.00155\n",
      "Epoch: 12, Train loss: 0.00017, Val loss: 0.00152\n",
      "Epoch: 13, Train loss: 0.00017, Val loss: 0.00147\n",
      "Epoch: 14, Train loss: 0.00016, Val loss: 0.00147\n",
      "Epoch: 15, Train loss: 0.00017, Val loss: 0.00147\n",
      "Epoch: 16, Train loss: 0.00016, Val loss: 0.00143\n",
      "Epoch: 17, Train loss: 0.00016, Val loss: 0.00140\n",
      "Epoch: 18, Train loss: 0.00016, Val loss: 0.00141\n",
      "Epoch: 19, Train loss: 0.00016, Val loss: 0.00139\n",
      "Epoch: 20, Train loss: 0.00016, Val loss: 0.00136\n",
      "Epoch: 21, Train loss: 0.00016, Val loss: 0.00136\n",
      "Epoch: 22, Train loss: 0.00016, Val loss: 0.00136\n",
      "Epoch: 23, Train loss: 0.00016, Val loss: 0.00133\n",
      "Epoch: 24, Train loss: 0.00016, Val loss: 0.00132\n",
      "Epoch: 25, Train loss: 0.00016, Val loss: 0.00132\n",
      "Epoch: 26, Train loss: 0.00016, Val loss: 0.00129\n",
      "Epoch: 27, Train loss: 0.00016, Val loss: 0.00128\n",
      "Epoch: 28, Train loss: 0.00016, Val loss: 0.00128\n",
      "Epoch: 29, Train loss: 0.00016, Val loss: 0.00126\n",
      "Epoch: 30, Train loss: 0.00016, Val loss: 0.00125\n",
      "Epoch: 31, Train loss: 0.00016, Val loss: 0.00125\n",
      "Epoch: 32, Train loss: 0.00015, Val loss: 0.00124\n",
      "Epoch: 33, Train loss: 0.00015, Val loss: 0.00123\n",
      "Epoch: 34, Train loss: 0.00015, Val loss: 0.00123\n",
      "Epoch: 35, Train loss: 0.00015, Val loss: 0.00122\n",
      "Epoch: 36, Train loss: 0.00015, Val loss: 0.00121\n",
      "Epoch: 37, Train loss: 0.00015, Val loss: 0.00121\n",
      "Epoch: 38, Train loss: 0.00015, Val loss: 0.00120\n",
      "Epoch: 39, Train loss: 0.00015, Val loss: 0.00120\n",
      "Epoch: 40, Train loss: 0.00015, Val loss: 0.00119\n",
      "Epoch: 41, Train loss: 0.00015, Val loss: 0.00119\n",
      "Epoch: 42, Train loss: 0.00015, Val loss: 0.00119\n",
      "Epoch: 43, Train loss: 0.00015, Val loss: 0.00119\n",
      "Epoch: 44, Train loss: 0.00015, Val loss: 0.00118\n",
      "Epoch: 45, Train loss: 0.00015, Val loss: 0.00118\n",
      "Epoch: 46, Train loss: 0.00015, Val loss: 0.00118\n",
      "Epoch: 47, Train loss: 0.00015, Val loss: 0.00118\n",
      "Epoch: 48, Train loss: 0.00015, Val loss: 0.00118\n",
      "Epoch: 49, Train loss: 0.00015, Val loss: 0.00119\n",
      "Epoch: 50, Train loss: 0.00015, Val loss: 0.00118\n",
      "Epoch: 51, Train loss: 0.00015, Val loss: 0.00119\n",
      "Epoch: 52, Train loss: 0.00015, Val loss: 0.00117\n",
      "Epoch: 53, Train loss: 0.00014, Val loss: 0.00118\n",
      "Epoch: 54, Train loss: 0.00014, Val loss: 0.00118\n",
      "Epoch: 55, Train loss: 0.00015, Val loss: 0.00117\n",
      "Epoch: 56, Train loss: 0.00015, Val loss: 0.00120\n",
      "Epoch: 57, Train loss: 0.00014, Val loss: 0.00118\n",
      "Epoch: 58, Train loss: 0.00014, Val loss: 0.00119\n",
      "Epoch: 59, Train loss: 0.00014, Val loss: 0.00119\n",
      "Epoch: 60, Train loss: 0.00014, Val loss: 0.00118\n",
      "Epoch: 61, Train loss: 0.00014, Val loss: 0.00121\n",
      "Epoch: 62, Train loss: 0.00014, Val loss: 0.00119\n",
      "Epoch: 63, Train loss: 0.00014, Val loss: 0.00120\n",
      "Epoch: 64, Train loss: 0.00014, Val loss: 0.00121\n",
      "Epoch: 65, Train loss: 0.00014, Val loss: 0.00119\n",
      "Epoch: 66, Train loss: 0.00014, Val loss: 0.00122\n",
      "Epoch: 67, Train loss: 0.00014, Val loss: 0.00121\n",
      "Epoch: 68, Train loss: 0.00014, Val loss: 0.00122\n",
      "Epoch: 69, Train loss: 0.00014, Val loss: 0.00124\n",
      "Epoch: 70, Train loss: 0.00014, Val loss: 0.00122\n",
      "Epoch: 71, Train loss: 0.00014, Val loss: 0.00126\n",
      "Epoch: 72, Train loss: 0.00014, Val loss: 0.00124\n",
      "Epoch: 73, Train loss: 0.00014, Val loss: 0.00126\n",
      "Epoch: 74, Train loss: 0.00013, Val loss: 0.00127\n",
      "Epoch: 75, Train loss: 0.00013, Val loss: 0.00126\n",
      "Epoch: 76, Train loss: 0.00013, Val loss: 0.00130\n",
      "Epoch: 77, Train loss: 0.00013, Val loss: 0.00127\n",
      "Epoch: 78, Train loss: 0.00013, Val loss: 0.00132\n",
      "Epoch: 79, Train loss: 0.00013, Val loss: 0.00129\n",
      "Epoch: 80, Train loss: 0.00013, Val loss: 0.00133\n",
      "Epoch: 81, Train loss: 0.00013, Val loss: 0.00131\n",
      "Epoch: 82, Train loss: 0.00013, Val loss: 0.00134\n",
      "Epoch: 83, Train loss: 0.00013, Val loss: 0.00133\n",
      "Epoch: 84, Train loss: 0.00013, Val loss: 0.00135\n",
      "Epoch: 85, Train loss: 0.00013, Val loss: 0.00135\n",
      "Epoch: 86, Train loss: 0.00013, Val loss: 0.00136\n",
      "Epoch: 87, Train loss: 0.00013, Val loss: 0.00137\n",
      "Epoch: 88, Train loss: 0.00013, Val loss: 0.00137\n",
      "Epoch: 89, Train loss: 0.00013, Val loss: 0.00140\n",
      "Epoch: 90, Train loss: 0.00013, Val loss: 0.00138\n",
      "Epoch: 91, Train loss: 0.00013, Val loss: 0.00144\n",
      "Epoch: 92, Train loss: 0.00013, Val loss: 0.00136\n",
      "Epoch: 93, Train loss: 0.00014, Val loss: 0.00155\n",
      "Epoch: 94, Train loss: 0.00016, Val loss: 0.00132\n",
      "Epoch: 95, Train loss: 0.00017, Val loss: 0.00170\n",
      "Epoch: 96, Train loss: 0.00014, Val loss: 0.00133\n",
      "Epoch: 97, Train loss: 0.00013, Val loss: 0.00142\n",
      "Epoch: 98, Train loss: 0.00014, Val loss: 0.00158\n",
      "Epoch: 99, Train loss: 0.00014, Val loss: 0.00131\n",
      "Epoch: 100, Train loss: 0.00013, Val loss: 0.00145\n"
     ]
    }
   ],
   "source": [
    "for epoch in range(100):\n",
    "    var_x = Variable(train_x)\n",
    "    var_y = Variable(train_y)\n",
    "    var_x_test = Variable(test_x)\n",
    "    var_y_test = Variable(test_y)\n",
    "    # forward\n",
    "    out = net(var_x)\n",
    "    loss = criterion(out, var_y)\n",
    "    out_test = net(var_x_test)\n",
    "    loss_test = criterion(out_test, var_y_test)\n",
    "    # backward\n",
    "    optimizer.zero_grad()\n",
    "    loss.backward()\n",
    "    optimizer.step()\n",
    "    if (epoch + 1) % 1 == 0: # print every 1 epoch\n",
    "        print('Epoch: {}, Train loss: {:.5f}, Val loss: {:.5f}'.format(epoch + 1, loss.data, loss_test.data))\n",
    "        \n",
    "    # save model in every 10 epoch\n",
    "    if (epoch + 1) % 10 == 0:\n",
    "        #torch.save(net.state_dict(), path_model+'train_valid_exp4-epoch{}.pth'.format(epoch+1)) \n",
    "        torch.save({\n",
    "            'epoch': epoch,\n",
    "            'model_state_dict': net.state_dict(),\n",
    "            'optimizer_state_dict': optimizer.state_dict(),\n",
    "            'loss': loss\n",
    "            }, path_model+'train_valid_exp4-epoch{}.pth'.format(epoch+1))   "
   ]
  },
  {
   "cell_type": "code",
   "execution_count": 115,
   "metadata": {
    "ExecuteTime": {
     "end_time": "2019-03-28T03:08:40.757022Z",
     "start_time": "2019-03-28T03:08:40.744994Z"
    }
   },
   "outputs": [],
   "source": [
    "## to get back the saved model with specific epoch\n",
    "epoch = 60\n",
    "PATH = path_model+'train_valid_exp4-epoch{}.pth'.format(epoch)\n",
    "checkpoint = torch.load(PATH)\n",
    "net.load_state_dict(checkpoint['model_state_dict'])\n",
    "optimizer.load_state_dict(checkpoint['optimizer_state_dict'])\n",
    "epoch = checkpoint['epoch']\n",
    "loss = checkpoint['loss']\n",
    "\n",
    "#net.eval()\n",
    "# - or -\n",
    "#net.train()"
   ]
  },
  {
   "cell_type": "code",
   "execution_count": 116,
   "metadata": {
    "ExecuteTime": {
     "end_time": "2019-03-28T03:08:54.957281Z",
     "start_time": "2019-03-28T03:08:54.942230Z"
    }
   },
   "outputs": [],
   "source": [
    "# save the best model so far\n",
    "## setup the path to store the model\n",
    "filename = 'SAP_LSTM'\n",
    "filetype = 'state_dict'\n",
    "filedate = '20190328_best4'\n",
    "file_inference = path_model + filename + '_' + filetype + '_' + filedate + '.pth'\n",
    "file_full = path_model + filename + '_' + filedate + '.pth'\n",
    "torch.save(net.state_dict(), file_inference)   # inference\n",
    "net.load_state_dict(torch.load(file_inference))"
   ]
  },
  {
   "cell_type": "code",
   "execution_count": 126,
   "metadata": {
    "ExecuteTime": {
     "end_time": "2019-03-28T03:27:43.716729Z",
     "start_time": "2019-03-28T03:27:43.713722Z"
    }
   },
   "outputs": [],
   "source": [
    "## train again using a smaller learning rate\n",
    "net.train()\n",
    "optimizer = torch.optim.Adam(net.parameters(), lr=1e-4)"
   ]
  },
  {
   "cell_type": "code",
   "execution_count": 127,
   "metadata": {
    "ExecuteTime": {
     "end_time": "2019-03-28T03:32:03.207150Z",
     "start_time": "2019-03-28T03:27:53.433169Z"
    },
    "scrolled": true
   },
   "outputs": [
    {
     "name": "stdout",
     "output_type": "stream",
     "text": [
      "Epoch: 1, Train loss: 0.00014, Val loss: 0.00121\n",
      "Epoch: 2, Train loss: 0.00017, Val loss: 0.00115\n",
      "Epoch: 3, Train loss: 0.00014, Val loss: 0.00116\n",
      "Epoch: 4, Train loss: 0.00015, Val loss: 0.00123\n",
      "Epoch: 5, Train loss: 0.00015, Val loss: 0.00127\n",
      "Epoch: 6, Train loss: 0.00015, Val loss: 0.00124\n",
      "Epoch: 7, Train loss: 0.00014, Val loss: 0.00119\n",
      "Epoch: 8, Train loss: 0.00014, Val loss: 0.00116\n",
      "Epoch: 9, Train loss: 0.00015, Val loss: 0.00115\n",
      "Epoch: 10, Train loss: 0.00015, Val loss: 0.00115\n",
      "Epoch: 11, Train loss: 0.00014, Val loss: 0.00116\n",
      "Epoch: 12, Train loss: 0.00014, Val loss: 0.00118\n",
      "Epoch: 13, Train loss: 0.00014, Val loss: 0.00120\n",
      "Epoch: 14, Train loss: 0.00014, Val loss: 0.00122\n",
      "Epoch: 15, Train loss: 0.00014, Val loss: 0.00122\n",
      "Epoch: 16, Train loss: 0.00014, Val loss: 0.00121\n",
      "Epoch: 17, Train loss: 0.00014, Val loss: 0.00118\n",
      "Epoch: 18, Train loss: 0.00014, Val loss: 0.00117\n",
      "Epoch: 19, Train loss: 0.00014, Val loss: 0.00116\n",
      "Epoch: 20, Train loss: 0.00014, Val loss: 0.00116\n",
      "Epoch: 21, Train loss: 0.00014, Val loss: 0.00117\n",
      "Epoch: 22, Train loss: 0.00014, Val loss: 0.00118\n",
      "Epoch: 23, Train loss: 0.00014, Val loss: 0.00120\n",
      "Epoch: 24, Train loss: 0.00014, Val loss: 0.00121\n",
      "Epoch: 25, Train loss: 0.00014, Val loss: 0.00121\n",
      "Epoch: 26, Train loss: 0.00014, Val loss: 0.00120\n",
      "Epoch: 27, Train loss: 0.00014, Val loss: 0.00119\n",
      "Epoch: 28, Train loss: 0.00014, Val loss: 0.00118\n",
      "Epoch: 29, Train loss: 0.00014, Val loss: 0.00117\n",
      "Epoch: 30, Train loss: 0.00014, Val loss: 0.00117\n",
      "Epoch: 31, Train loss: 0.00014, Val loss: 0.00118\n",
      "Epoch: 32, Train loss: 0.00014, Val loss: 0.00119\n",
      "Epoch: 33, Train loss: 0.00014, Val loss: 0.00120\n",
      "Epoch: 34, Train loss: 0.00014, Val loss: 0.00120\n",
      "Epoch: 35, Train loss: 0.00014, Val loss: 0.00120\n",
      "Epoch: 36, Train loss: 0.00014, Val loss: 0.00120\n",
      "Epoch: 37, Train loss: 0.00014, Val loss: 0.00119\n",
      "Epoch: 38, Train loss: 0.00014, Val loss: 0.00118\n",
      "Epoch: 39, Train loss: 0.00014, Val loss: 0.00118\n",
      "Epoch: 40, Train loss: 0.00014, Val loss: 0.00118\n",
      "Epoch: 41, Train loss: 0.00014, Val loss: 0.00119\n",
      "Epoch: 42, Train loss: 0.00014, Val loss: 0.00120\n",
      "Epoch: 43, Train loss: 0.00014, Val loss: 0.00120\n",
      "Epoch: 44, Train loss: 0.00014, Val loss: 0.00121\n",
      "Epoch: 45, Train loss: 0.00014, Val loss: 0.00120\n",
      "Epoch: 46, Train loss: 0.00014, Val loss: 0.00120\n",
      "Epoch: 47, Train loss: 0.00014, Val loss: 0.00119\n",
      "Epoch: 48, Train loss: 0.00014, Val loss: 0.00119\n",
      "Epoch: 49, Train loss: 0.00014, Val loss: 0.00119\n",
      "Epoch: 50, Train loss: 0.00014, Val loss: 0.00120\n",
      "Epoch: 51, Train loss: 0.00014, Val loss: 0.00120\n",
      "Epoch: 52, Train loss: 0.00014, Val loss: 0.00121\n",
      "Epoch: 53, Train loss: 0.00014, Val loss: 0.00121\n",
      "Epoch: 54, Train loss: 0.00014, Val loss: 0.00121\n",
      "Epoch: 55, Train loss: 0.00014, Val loss: 0.00120\n",
      "Epoch: 56, Train loss: 0.00014, Val loss: 0.00120\n",
      "Epoch: 57, Train loss: 0.00014, Val loss: 0.00120\n",
      "Epoch: 58, Train loss: 0.00014, Val loss: 0.00120\n",
      "Epoch: 59, Train loss: 0.00014, Val loss: 0.00121\n",
      "Epoch: 60, Train loss: 0.00014, Val loss: 0.00121\n",
      "Epoch: 61, Train loss: 0.00014, Val loss: 0.00121\n",
      "Epoch: 62, Train loss: 0.00014, Val loss: 0.00121\n",
      "Epoch: 63, Train loss: 0.00014, Val loss: 0.00121\n",
      "Epoch: 64, Train loss: 0.00014, Val loss: 0.00121\n",
      "Epoch: 65, Train loss: 0.00014, Val loss: 0.00121\n",
      "Epoch: 66, Train loss: 0.00014, Val loss: 0.00121\n",
      "Epoch: 67, Train loss: 0.00014, Val loss: 0.00122\n",
      "Epoch: 68, Train loss: 0.00014, Val loss: 0.00122\n",
      "Epoch: 69, Train loss: 0.00014, Val loss: 0.00122\n",
      "Epoch: 70, Train loss: 0.00014, Val loss: 0.00122\n",
      "Epoch: 71, Train loss: 0.00014, Val loss: 0.00122\n",
      "Epoch: 72, Train loss: 0.00014, Val loss: 0.00122\n",
      "Epoch: 73, Train loss: 0.00014, Val loss: 0.00122\n",
      "Epoch: 74, Train loss: 0.00014, Val loss: 0.00122\n",
      "Epoch: 75, Train loss: 0.00014, Val loss: 0.00122\n",
      "Epoch: 76, Train loss: 0.00014, Val loss: 0.00123\n",
      "Epoch: 77, Train loss: 0.00013, Val loss: 0.00123\n",
      "Epoch: 78, Train loss: 0.00013, Val loss: 0.00123\n",
      "Epoch: 79, Train loss: 0.00013, Val loss: 0.00123\n",
      "Epoch: 80, Train loss: 0.00013, Val loss: 0.00123\n",
      "Epoch: 81, Train loss: 0.00013, Val loss: 0.00123\n",
      "Epoch: 82, Train loss: 0.00013, Val loss: 0.00123\n",
      "Epoch: 83, Train loss: 0.00013, Val loss: 0.00123\n",
      "Epoch: 84, Train loss: 0.00013, Val loss: 0.00123\n",
      "Epoch: 85, Train loss: 0.00013, Val loss: 0.00123\n",
      "Epoch: 86, Train loss: 0.00013, Val loss: 0.00123\n",
      "Epoch: 87, Train loss: 0.00013, Val loss: 0.00123\n",
      "Epoch: 88, Train loss: 0.00013, Val loss: 0.00123\n",
      "Epoch: 89, Train loss: 0.00013, Val loss: 0.00124\n",
      "Epoch: 90, Train loss: 0.00013, Val loss: 0.00124\n",
      "Epoch: 91, Train loss: 0.00013, Val loss: 0.00124\n",
      "Epoch: 92, Train loss: 0.00013, Val loss: 0.00124\n",
      "Epoch: 93, Train loss: 0.00013, Val loss: 0.00124\n",
      "Epoch: 94, Train loss: 0.00013, Val loss: 0.00124\n",
      "Epoch: 95, Train loss: 0.00013, Val loss: 0.00124\n",
      "Epoch: 96, Train loss: 0.00013, Val loss: 0.00124\n",
      "Epoch: 97, Train loss: 0.00013, Val loss: 0.00125\n",
      "Epoch: 98, Train loss: 0.00013, Val loss: 0.00125\n",
      "Epoch: 99, Train loss: 0.00013, Val loss: 0.00125\n",
      "Epoch: 100, Train loss: 0.00013, Val loss: 0.00125\n"
     ]
    }
   ],
   "source": [
    "for epoch in range(100):\n",
    "    var_x = Variable(train_x)\n",
    "    var_y = Variable(train_y)\n",
    "    var_x_test = Variable(test_x)\n",
    "    var_y_test = Variable(test_y)\n",
    "    # forward\n",
    "    out = net(var_x)\n",
    "    loss = criterion(out, var_y)\n",
    "    out_test = net(var_x_test)\n",
    "    loss_test = criterion(out_test, var_y_test)\n",
    "    # backward\n",
    "    optimizer.zero_grad()\n",
    "    loss.backward()\n",
    "    optimizer.step()\n",
    "    if (epoch + 1) % 1 == 0: # print every 1 epoch\n",
    "        print('Epoch: {}, Train loss: {:.5f}, Val loss: {:.5f}'.format(epoch + 1, loss.data, loss_test.data))\n",
    "        \n",
    "    # save model in every 10 epoch\n",
    "    if (epoch + 1) % 10 == 0:\n",
    "        #torch.save(net.state_dict(), path_model+'train_valid_exp4-epoch{}.pth'.format(epoch+1)) \n",
    "        torch.save({\n",
    "            'epoch': epoch,\n",
    "            'model_state_dict': net.state_dict(),\n",
    "            'optimizer_state_dict': optimizer.state_dict(),\n",
    "            'loss': loss\n",
    "            }, path_model+'train_valid_exp4-epoch{}.pth'.format(epoch+1))   "
   ]
  },
  {
   "cell_type": "code",
   "execution_count": 132,
   "metadata": {
    "ExecuteTime": {
     "end_time": "2019-03-28T03:34:17.904118Z",
     "start_time": "2019-03-28T03:34:17.894092Z"
    }
   },
   "outputs": [],
   "source": [
    "## to get back the saved model with specific epoch\n",
    "epoch = 20\n",
    "PATH = path_model+'train_valid_exp4-epoch{}.pth'.format(epoch)\n",
    "checkpoint = torch.load(PATH)\n",
    "net.load_state_dict(checkpoint['model_state_dict'])\n",
    "optimizer.load_state_dict(checkpoint['optimizer_state_dict'])\n",
    "epoch = checkpoint['epoch']\n",
    "loss = checkpoint['loss']\n",
    "\n",
    "#net.eval()\n",
    "# - or -\n",
    "#net.train()"
   ]
  },
  {
   "cell_type": "code",
   "execution_count": 133,
   "metadata": {
    "ExecuteTime": {
     "end_time": "2019-03-28T03:34:21.640634Z",
     "start_time": "2019-03-28T03:34:21.629610Z"
    }
   },
   "outputs": [],
   "source": [
    "# save the best model so far\n",
    "## setup the path to store the model\n",
    "filename = 'SAP_LSTM'\n",
    "filetype = 'state_dict'\n",
    "filedate = '20190328_best5'\n",
    "file_inference = path_model + filename + '_' + filetype + '_' + filedate + '.pth'\n",
    "file_full = path_model + filename + '_' + filedate + '.pth'\n",
    "torch.save(net.state_dict(), file_inference)   # inference\n",
    "net.load_state_dict(torch.load(file_inference))"
   ]
  },
  {
   "cell_type": "code",
   "execution_count": 173,
   "metadata": {
    "ExecuteTime": {
     "end_time": "2019-03-28T04:31:56.583446Z",
     "start_time": "2019-03-28T04:31:56.576929Z"
    }
   },
   "outputs": [],
   "source": [
    "# load the best model \"SAP_LSTM_state_dict_20190328_best5.pth\"\n",
    "filename = 'SAP_LSTM'\n",
    "filetype = 'state_dict'\n",
    "filedate = '20190328_best5'\n",
    "file_inference = path_model + filename + '_' + filetype + '_' + filedate + '.pth'\n",
    "net.load_state_dict(torch.load(file_inference))"
   ]
  },
  {
   "cell_type": "code",
   "execution_count": 65,
   "metadata": {
    "ExecuteTime": {
     "end_time": "2019-03-28T01:45:27.031842Z",
     "start_time": "2019-03-28T01:45:27.004359Z"
    }
   },
   "outputs": [],
   "source": [
    "## save the model Inference and full model\n",
    "# torch.save(net.state_dict(), file_inference)   # inference\n",
    "# torch.save(net, file_full)   # full model\n",
    "\n",
    "## load the model inference and full model\n",
    "# inference \n",
    "# Model class must be defined somewhere\n",
    "# net.load_state_dict(torch.load(file_inference))\n",
    "\n",
    "## load the model inference and full model\n",
    "# full model \n",
    "# Model class must be defined somewhere\n",
    "# net = torch.load(file_full)\n"
   ]
  },
  {
   "cell_type": "code",
   "execution_count": 137,
   "metadata": {
    "ExecuteTime": {
     "end_time": "2019-03-28T03:43:39.915173Z",
     "start_time": "2019-03-28T03:43:39.849985Z"
    }
   },
   "outputs": [
    {
     "name": "stdout",
     "output_type": "stream",
     "text": [
      "Model's state_dict:\n",
      "rnn.weight_ih_l0 \t torch.Size([240, 40])\n",
      "rnn.weight_hh_l0 \t torch.Size([240, 60])\n",
      "rnn.bias_ih_l0 \t torch.Size([240])\n",
      "rnn.bias_hh_l0 \t torch.Size([240])\n",
      "rnn.weight_ih_l1 \t torch.Size([240, 60])\n",
      "rnn.weight_hh_l1 \t torch.Size([240, 60])\n",
      "rnn.bias_ih_l1 \t torch.Size([240])\n",
      "rnn.bias_hh_l1 \t torch.Size([240])\n",
      "reg.weight \t torch.Size([1, 60])\n",
      "reg.bias \t torch.Size([1])\n",
      "Optimizer's state_dict:\n",
      "state \t {1840105321672: {'step': 20, 'exp_avg': tensor([[-2.2364e-08, -2.2587e-08, -2.3196e-08,  ..., -1.3816e-08,\n",
      "         -9.5922e-09, -6.3129e-09],\n",
      "        [-3.1170e-08, -3.0846e-08, -2.8568e-08,  ..., -8.5447e-08,\n",
      "         -1.0673e-07, -1.3782e-07],\n",
      "        [-1.8491e-08, -1.7961e-08, -1.8190e-08,  ..., -5.2285e-09,\n",
      "          3.0409e-09,  1.2967e-08],\n",
      "        ...,\n",
      "        [-5.2113e-08, -5.1398e-08, -5.1590e-08,  ..., -2.1028e-08,\n",
      "         -8.8298e-10,  2.0973e-08],\n",
      "        [ 2.0740e-07,  2.1343e-07,  2.1898e-07,  ...,  3.8060e-07,\n",
      "          4.9484e-07,  6.5160e-07],\n",
      "        [ 6.4804e-08,  6.7351e-08,  6.9702e-08,  ...,  1.4491e-07,\n",
      "          1.9719e-07,  2.6423e-07]]), 'exp_avg_sq': tensor([[7.5216e-17, 7.5470e-17, 7.6129e-17,  ..., 7.0799e-17, 6.9024e-17,\n",
      "         6.8266e-17],\n",
      "        [1.7713e-14, 1.7722e-14, 1.7734e-14,  ..., 1.8710e-14, 1.8817e-14,\n",
      "         1.8993e-14],\n",
      "        [5.7726e-17, 5.7161e-17, 5.7377e-17,  ..., 4.9040e-17, 4.7841e-17,\n",
      "         5.1000e-17],\n",
      "        ...,\n",
      "        [1.7067e-16, 1.6908e-16, 1.6976e-16,  ..., 1.1961e-16, 1.1138e-16,\n",
      "         1.2572e-16],\n",
      "        [2.6323e-13, 2.6337e-13, 2.6352e-13,  ..., 2.7147e-13, 2.7340e-13,\n",
      "         2.7705e-13],\n",
      "        [3.2055e-14, 3.2072e-14, 3.2088e-14,  ..., 3.3226e-14, 3.3573e-14,\n",
      "         3.4214e-14]])}, 1840105321528: {'step': 20, 'exp_avg': tensor([[ 1.2979e-09,  3.8082e-08, -8.6194e-10,  ..., -1.3803e-09,\n",
      "          2.0381e-09, -1.6141e-09],\n",
      "        [ 1.2001e-08,  3.3485e-07, -8.0053e-09,  ..., -1.0222e-08,\n",
      "          1.8949e-08, -1.9275e-08],\n",
      "        [ 9.3223e-10,  1.2130e-08, -6.9248e-10,  ..., -1.0783e-09,\n",
      "          1.1473e-09, -6.5699e-10],\n",
      "        ...,\n",
      "        [ 3.3739e-09,  7.7353e-08, -2.3222e-09,  ..., -3.6224e-09,\n",
      "          4.9695e-09, -3.7308e-09],\n",
      "        [-8.4903e-09, -6.2590e-07,  4.2030e-09,  ...,  7.6270e-09,\n",
      "         -2.0125e-08,  2.0342e-08],\n",
      "        [-1.5957e-09, -2.0054e-07,  5.0311e-10,  ...,  1.2265e-09,\n",
      "         -5.2736e-09,  5.7670e-09]]), 'exp_avg_sq': tensor([[6.7136e-20, 2.7614e-16, 2.3849e-20,  ..., 7.1636e-20, 2.4997e-19,\n",
      "         1.8640e-19],\n",
      "        [6.8135e-17, 9.0487e-14, 2.6570e-17,  ..., 6.3404e-17, 2.2952e-16,\n",
      "         1.8325e-16],\n",
      "        [1.8013e-19, 2.4113e-16, 7.2206e-20,  ..., 1.7941e-19, 5.7910e-19,\n",
      "         4.3869e-19],\n",
      "        ...,\n",
      "        [2.9950e-19, 4.4168e-16, 1.4751e-19,  ..., 3.4173e-19, 6.4237e-19,\n",
      "         3.6415e-19],\n",
      "        [1.4556e-16, 9.7648e-13, 3.9800e-17,  ..., 1.3947e-16, 7.0794e-16,\n",
      "         5.7322e-16],\n",
      "        [1.6871e-17, 1.1853e-13, 4.5411e-18,  ..., 1.6192e-17, 8.3227e-17,\n",
      "         6.7470e-17]])}, 1840105322392: {'step': 20, 'exp_avg': tensor([-8.2177e-08, -1.4589e-07, -7.1514e-08,  9.5116e-09, -6.4176e-07,\n",
      "         9.0109e-08,  6.1705e-07,  2.1108e-06, -1.0690e-07,  1.5068e-06,\n",
      "         2.9709e-06,  1.1522e-06,  1.0074e-07, -8.4005e-08,  9.1835e-08,\n",
      "         6.8195e-08, -1.5383e-07, -6.9917e-07,  1.1122e-08,  5.1333e-08,\n",
      "         1.5905e-06, -3.4252e-08, -3.8543e-07,  6.1689e-08,  1.3658e-08,\n",
      "         6.1506e-07,  1.1102e-06,  1.5831e-06,  3.5331e-08, -1.4508e-06,\n",
      "        -5.3553e-07,  5.7590e-07,  1.9444e-08, -5.4007e-07, -8.2360e-07,\n",
      "        -6.3732e-07, -4.5372e-07, -1.8736e-09,  3.2314e-07,  2.2556e-07,\n",
      "         2.4761e-08, -9.6897e-08,  4.2659e-07, -2.6416e-07, -1.9933e-07,\n",
      "        -5.5005e-07, -1.3040e-07,  2.1281e-07,  1.5764e-07,  1.1763e-06,\n",
      "         1.7769e-08,  7.1594e-08, -2.2742e-06, -6.3502e-09,  1.5564e-07,\n",
      "         5.9849e-08, -2.6197e-07, -1.8795e-07,  6.6935e-07,  1.9443e-07,\n",
      "        -1.5024e-08, -1.6655e-06, -6.4988e-09, -2.6522e-07, -3.9366e-07,\n",
      "         2.2278e-08,  3.2150e-07,  1.3593e-06, -4.7312e-08,  4.3414e-07,\n",
      "         2.0020e-06,  7.3967e-07,  2.3897e-08, -1.4688e-08,  2.6796e-08,\n",
      "         3.1726e-08, -1.3157e-07, -1.6516e-07,  2.3369e-09,  3.5014e-08,\n",
      "         2.4912e-06, -1.1962e-09, -3.3424e-07,  4.3465e-09,  2.1053e-07,\n",
      "         1.6172e-07,  9.0436e-07,  2.4599e-06,  2.5236e-08, -7.7691e-07,\n",
      "        -1.7093e-07,  3.4135e-07,  1.4745e-08, -3.2974e-06, -9.7394e-07,\n",
      "        -3.7316e-07,  1.7265e-06,  5.2717e-10,  8.7308e-08,  7.2483e-08,\n",
      "         1.7434e-08, -2.1035e-08,  8.1412e-08, -3.7796e-07, -6.0454e-08,\n",
      "        -1.6001e-07, -1.9038e-08,  1.9022e-07,  4.9947e-08,  6.5306e-07,\n",
      "         4.2670e-09,  1.6689e-08, -2.5774e-06,  5.6594e-09,  4.2027e-08,\n",
      "         1.1850e-08, -1.4803e-07, -2.0472e-08,  1.7324e-07,  6.5048e-08,\n",
      "         9.8713e-08,  7.1192e-07, -6.2588e-08, -7.0005e-07, -1.8727e-06,\n",
      "         3.9446e-08, -6.1876e-07,  3.3921e-06,  1.8739e-06,  1.3903e-06,\n",
      "        -2.1668e-06, -1.2417e-06, -4.1588e-07,  5.6966e-07,  1.6361e-08,\n",
      "         5.9455e-07, -4.6123e-06, -4.3331e-05, -8.9615e-08,  1.2207e-06,\n",
      "        -1.5512e-05, -2.0841e-07,  5.0271e-06,  3.0078e-09, -2.8730e-06,\n",
      "         3.7734e-07, -1.8795e-06, -5.8846e-06, -6.0269e-08, -1.4662e-05,\n",
      "        -5.9306e-07, -9.5180e-07,  9.5616e-08, -1.3092e-04,  5.3496e-06,\n",
      "         1.0947e-05, -6.6923e-05, -1.5971e-08,  3.6530e-08, -1.0193e-06,\n",
      "         9.4464e-07,  4.5926e-07,  2.2346e-07,  8.2795e-07, -4.3693e-07,\n",
      "        -2.9575e-07,  2.1208e-07,  1.4190e-06, -5.3609e-09,  2.4275e-06,\n",
      "        -6.7021e-09,  9.2332e-09,  5.0746e-05, -1.6126e-07, -1.6645e-08,\n",
      "         1.9321e-07, -1.5924e-06, -2.4090e-07, -4.8000e-07,  1.8663e-08,\n",
      "        -8.6066e-08, -7.7122e-06, -7.2977e-08, -3.7550e-07, -4.5047e-07,\n",
      "         9.4802e-08,  8.1820e-07,  2.4685e-06, -9.4255e-08,  1.2880e-06,\n",
      "         4.9858e-06,  1.5721e-06,  9.9758e-08, -8.4923e-08,  9.8058e-08,\n",
      "         7.1211e-08, -1.4799e-07, -9.7759e-07,  1.0681e-08,  4.9480e-08,\n",
      "         2.0835e-06, -3.4381e-08, -3.7592e-07,  5.9449e-08, -1.4195e-08,\n",
      "         6.1988e-07,  1.4644e-06,  2.8617e-06,  3.4743e-08, -1.5000e-06,\n",
      "        -5.8185e-07,  5.8093e-07,  1.7653e-08, -8.1268e-07, -1.7316e-06,\n",
      "        -6.4868e-07, -7.8135e-07, -2.0483e-09,  3.5442e-07,  2.0952e-07,\n",
      "         2.8164e-08, -1.0296e-07,  4.0767e-07, -1.8272e-07, -1.9374e-07,\n",
      "        -6.1658e-07, -1.1937e-07, -2.4605e-07,  1.6781e-07,  1.2259e-06,\n",
      "         1.7767e-08,  7.3085e-08, -2.6869e-06,  4.6006e-09,  1.5585e-07,\n",
      "         6.2779e-08, -3.0554e-07, -1.9252e-07,  6.6323e-07,  1.9406e-07]), 'exp_avg_sq': tensor([5.3433e-16, 1.8545e-13, 6.2688e-16, 1.1668e-12, 3.6331e-14, 3.8988e-14,\n",
      "        1.2968e-12, 1.7586e-11, 3.9617e-14, 7.9239e-12, 3.3573e-11, 4.5873e-12,\n",
      "        2.0773e-14, 6.4574e-15, 5.3851e-14, 1.1091e-14, 8.2555e-14, 1.3144e-13,\n",
      "        6.3639e-16, 1.2152e-14, 1.5681e-11, 2.3283e-16, 3.3651e-13, 7.9514e-15,\n",
      "        8.1525e-13, 1.1679e-12, 3.3938e-12, 4.4001e-12, 2.1309e-13, 7.5451e-13,\n",
      "        2.8662e-13, 1.3722e-12, 3.7327e-14, 7.9358e-15, 5.4328e-14, 1.2845e-13,\n",
      "        1.0989e-13, 3.1656e-17, 5.5229e-13, 1.9573e-13, 1.0984e-14, 2.4100e-16,\n",
      "        7.3405e-13, 5.5073e-13, 4.2448e-14, 4.9283e-14, 2.7560e-15, 3.3098e-14,\n",
      "        3.2818e-13, 4.3056e-12, 1.4010e-15, 2.9655e-14, 2.7200e-12, 1.3243e-13,\n",
      "        9.4964e-14, 2.8398e-14, 1.4643e-13, 1.2246e-15, 1.5886e-12, 1.8928e-13,\n",
      "        1.3519e-17, 2.1924e-12, 2.1402e-17, 3.0922e-12, 5.7134e-14, 1.0894e-15,\n",
      "        2.7377e-13, 5.4935e-12, 7.9765e-15, 3.7200e-13, 1.3615e-11, 1.4754e-12,\n",
      "        5.2943e-16, 1.7603e-16, 2.4507e-15, 1.5816e-15, 1.0795e-14, 2.0940e-12,\n",
      "        1.0535e-17, 2.3071e-15, 3.8503e-11, 3.8126e-17, 3.3353e-13, 5.1207e-17,\n",
      "        5.9783e-13, 3.9422e-14, 2.3787e-12, 1.5763e-11, 8.8550e-15, 6.4873e-13,\n",
      "        1.7539e-14, 3.6824e-13, 1.4601e-15, 2.6543e-11, 3.3531e-13, 1.2307e-12,\n",
      "        1.6248e-11, 1.3353e-20, 1.6919e-14, 1.3775e-14, 2.2185e-15, 1.5962e-17,\n",
      "        1.1750e-14, 1.0265e-12, 2.7991e-15, 3.4300e-15, 5.0667e-17, 1.2326e-13,\n",
      "        9.6995e-15, 9.8868e-13, 1.2946e-17, 5.0908e-16, 3.7743e-11, 4.6416e-15,\n",
      "        3.3730e-15, 3.9600e-16, 4.4475e-14, 1.0885e-17, 5.8207e-14, 1.0238e-14,\n",
      "        4.1908e-16, 3.9615e-12, 2.6339e-16, 4.1961e-12, 5.6520e-13, 4.9567e-14,\n",
      "        5.9349e-13, 3.1472e-11, 7.7339e-12, 4.8961e-12, 7.8319e-12, 2.6522e-12,\n",
      "        1.2928e-13, 3.4082e-13, 2.0448e-14, 4.1938e-13, 3.6080e-11, 9.6533e-09,\n",
      "        7.4094e-14, 1.8462e-12, 7.1075e-10, 1.4397e-13, 1.4066e-10, 9.1764e-14,\n",
      "        7.3463e-11, 3.7490e-13, 3.2907e-12, 3.4882e-11, 2.4380e-13, 1.0285e-09,\n",
      "        4.0849e-14, 1.5639e-12, 1.0384e-14, 8.9807e-08, 2.7569e-10, 2.7699e-10,\n",
      "        1.7417e-08, 8.4917e-18, 3.2353e-13, 3.3081e-12, 4.6343e-12, 5.4573e-15,\n",
      "        4.9045e-13, 1.6863e-12, 2.4701e-13, 3.5924e-15, 2.8997e-15, 2.6770e-13,\n",
      "        1.7412e-13, 1.2593e-11, 2.5678e-15, 3.5749e-14, 1.2322e-08, 8.8110e-14,\n",
      "        4.2711e-13, 2.1943e-13, 3.5504e-12, 1.5250e-15, 1.0962e-12, 5.6366e-14,\n",
      "        5.6914e-16, 2.2614e-10, 6.4688e-16, 2.4501e-12, 1.1183e-14, 4.3732e-14,\n",
      "        2.1881e-12, 2.3697e-11, 3.1454e-14, 5.8445e-12, 1.1400e-10, 9.2926e-12,\n",
      "        2.0437e-14, 6.5904e-15, 6.1879e-14, 1.2047e-14, 7.2052e-14, 2.2062e-13,\n",
      "        5.9799e-16, 1.1504e-14, 3.5350e-11, 2.5936e-16, 3.0720e-13, 7.4994e-15,\n",
      "        1.6967e-12, 1.1840e-12, 8.6588e-12, 3.5834e-11, 2.3040e-13, 7.8133e-13,\n",
      "        3.3549e-13, 1.2964e-12, 3.5301e-14, 1.9432e-14, 2.0474e-13, 1.1985e-13,\n",
      "        1.0851e-12, 3.2465e-17, 6.6184e-13, 1.7077e-13, 1.2886e-14, 2.6880e-16,\n",
      "        6.5175e-13, 3.1184e-13, 4.0485e-14, 5.9396e-14, 2.4651e-15, 3.3561e-13,\n",
      "        3.2885e-13, 4.6362e-12, 1.3647e-15, 2.9220e-14, 3.6874e-12, 1.2630e-13,\n",
      "        9.7485e-14, 3.2872e-14, 2.1113e-13, 1.2737e-15, 1.5707e-12, 1.8975e-13])}, 1840105321384: {'step': 20, 'exp_avg': tensor([-8.2177e-08, -1.4589e-07, -7.1514e-08,  9.5116e-09, -6.4176e-07,\n",
      "         9.0109e-08,  6.1705e-07,  2.1108e-06, -1.0690e-07,  1.5068e-06,\n",
      "         2.9709e-06,  1.1522e-06,  1.0074e-07, -8.4005e-08,  9.1835e-08,\n",
      "         6.8195e-08, -1.5383e-07, -6.9917e-07,  1.1122e-08,  5.1333e-08,\n",
      "         1.5905e-06, -3.4252e-08, -3.8543e-07,  6.1689e-08,  1.3658e-08,\n",
      "         6.1506e-07,  1.1102e-06,  1.5831e-06,  3.5331e-08, -1.4508e-06,\n",
      "        -5.3553e-07,  5.7590e-07,  1.9444e-08, -5.4007e-07, -8.2360e-07,\n",
      "        -6.3732e-07, -4.5372e-07, -1.8736e-09,  3.2314e-07,  2.2556e-07,\n",
      "         2.4761e-08, -9.6897e-08,  4.2659e-07, -2.6416e-07, -1.9933e-07,\n",
      "        -5.5005e-07, -1.3040e-07,  2.1281e-07,  1.5764e-07,  1.1763e-06,\n",
      "         1.7769e-08,  7.1594e-08, -2.2742e-06, -6.3502e-09,  1.5564e-07,\n",
      "         5.9849e-08, -2.6197e-07, -1.8795e-07,  6.6935e-07,  1.9443e-07,\n",
      "        -1.5024e-08, -1.6655e-06, -6.4988e-09, -2.6522e-07, -3.9366e-07,\n",
      "         2.2278e-08,  3.2150e-07,  1.3593e-06, -4.7312e-08,  4.3414e-07,\n",
      "         2.0020e-06,  7.3967e-07,  2.3897e-08, -1.4688e-08,  2.6796e-08,\n",
      "         3.1726e-08, -1.3157e-07, -1.6516e-07,  2.3369e-09,  3.5014e-08,\n",
      "         2.4912e-06, -1.1962e-09, -3.3424e-07,  4.3465e-09,  2.1053e-07,\n",
      "         1.6172e-07,  9.0436e-07,  2.4599e-06,  2.5236e-08, -7.7691e-07,\n",
      "        -1.7093e-07,  3.4135e-07,  1.4745e-08, -3.2974e-06, -9.7394e-07,\n",
      "        -3.7316e-07,  1.7265e-06,  5.2717e-10,  8.7308e-08,  7.2483e-08,\n",
      "         1.7434e-08, -2.1035e-08,  8.1412e-08, -3.7796e-07, -6.0454e-08,\n",
      "        -1.6001e-07, -1.9038e-08,  1.9022e-07,  4.9947e-08,  6.5306e-07,\n",
      "         4.2670e-09,  1.6689e-08, -2.5774e-06,  5.6594e-09,  4.2027e-08,\n",
      "         1.1850e-08, -1.4803e-07, -2.0472e-08,  1.7324e-07,  6.5048e-08,\n",
      "         9.8713e-08,  7.1192e-07, -6.2588e-08, -7.0005e-07, -1.8727e-06,\n",
      "         3.9446e-08, -6.1876e-07,  3.3921e-06,  1.8739e-06,  1.3903e-06,\n",
      "        -2.1668e-06, -1.2417e-06, -4.1588e-07,  5.6966e-07,  1.6361e-08,\n",
      "         5.9455e-07, -4.6123e-06, -4.3331e-05, -8.9615e-08,  1.2207e-06,\n",
      "        -1.5512e-05, -2.0841e-07,  5.0271e-06,  3.0078e-09, -2.8730e-06,\n",
      "         3.7734e-07, -1.8795e-06, -5.8846e-06, -6.0269e-08, -1.4662e-05,\n",
      "        -5.9306e-07, -9.5180e-07,  9.5616e-08, -1.3092e-04,  5.3496e-06,\n",
      "         1.0947e-05, -6.6923e-05, -1.5971e-08,  3.6530e-08, -1.0193e-06,\n",
      "         9.4464e-07,  4.5926e-07,  2.2346e-07,  8.2795e-07, -4.3693e-07,\n",
      "        -2.9575e-07,  2.1208e-07,  1.4190e-06, -5.3609e-09,  2.4275e-06,\n",
      "        -6.7021e-09,  9.2332e-09,  5.0746e-05, -1.6126e-07, -1.6645e-08,\n",
      "         1.9321e-07, -1.5924e-06, -2.4090e-07, -4.8000e-07,  1.8663e-08,\n",
      "        -8.6066e-08, -7.7122e-06, -7.2977e-08, -3.7550e-07, -4.5047e-07,\n",
      "         9.4802e-08,  8.1820e-07,  2.4685e-06, -9.4255e-08,  1.2880e-06,\n",
      "         4.9858e-06,  1.5721e-06,  9.9758e-08, -8.4923e-08,  9.8058e-08,\n",
      "         7.1211e-08, -1.4799e-07, -9.7759e-07,  1.0681e-08,  4.9480e-08,\n",
      "         2.0835e-06, -3.4381e-08, -3.7592e-07,  5.9449e-08, -1.4195e-08,\n",
      "         6.1988e-07,  1.4644e-06,  2.8617e-06,  3.4743e-08, -1.5000e-06,\n",
      "        -5.8185e-07,  5.8093e-07,  1.7653e-08, -8.1268e-07, -1.7316e-06,\n",
      "        -6.4868e-07, -7.8135e-07, -2.0483e-09,  3.5442e-07,  2.0952e-07,\n",
      "         2.8164e-08, -1.0296e-07,  4.0767e-07, -1.8272e-07, -1.9374e-07,\n",
      "        -6.1658e-07, -1.1937e-07, -2.4605e-07,  1.6781e-07,  1.2259e-06,\n",
      "         1.7767e-08,  7.3085e-08, -2.6869e-06,  4.6006e-09,  1.5585e-07,\n",
      "         6.2779e-08, -3.0554e-07, -1.9252e-07,  6.6323e-07,  1.9406e-07]), 'exp_avg_sq': tensor([5.3433e-16, 1.8545e-13, 6.2688e-16, 1.1668e-12, 3.6331e-14, 3.8988e-14,\n",
      "        1.2968e-12, 1.7586e-11, 3.9617e-14, 7.9239e-12, 3.3573e-11, 4.5873e-12,\n",
      "        2.0773e-14, 6.4574e-15, 5.3851e-14, 1.1091e-14, 8.2555e-14, 1.3144e-13,\n",
      "        6.3639e-16, 1.2152e-14, 1.5681e-11, 2.3283e-16, 3.3651e-13, 7.9514e-15,\n",
      "        8.1525e-13, 1.1679e-12, 3.3938e-12, 4.4001e-12, 2.1309e-13, 7.5451e-13,\n",
      "        2.8662e-13, 1.3722e-12, 3.7327e-14, 7.9358e-15, 5.4328e-14, 1.2845e-13,\n",
      "        1.0989e-13, 3.1656e-17, 5.5229e-13, 1.9573e-13, 1.0984e-14, 2.4100e-16,\n",
      "        7.3405e-13, 5.5073e-13, 4.2448e-14, 4.9283e-14, 2.7560e-15, 3.3098e-14,\n",
      "        3.2818e-13, 4.3056e-12, 1.4010e-15, 2.9655e-14, 2.7200e-12, 1.3243e-13,\n",
      "        9.4964e-14, 2.8398e-14, 1.4643e-13, 1.2246e-15, 1.5886e-12, 1.8928e-13,\n",
      "        1.3519e-17, 2.1924e-12, 2.1402e-17, 3.0922e-12, 5.7134e-14, 1.0894e-15,\n",
      "        2.7377e-13, 5.4935e-12, 7.9765e-15, 3.7200e-13, 1.3615e-11, 1.4754e-12,\n",
      "        5.2943e-16, 1.7603e-16, 2.4507e-15, 1.5816e-15, 1.0795e-14, 2.0940e-12,\n",
      "        1.0535e-17, 2.3071e-15, 3.8503e-11, 3.8126e-17, 3.3353e-13, 5.1207e-17,\n",
      "        5.9783e-13, 3.9422e-14, 2.3787e-12, 1.5763e-11, 8.8550e-15, 6.4873e-13,\n",
      "        1.7539e-14, 3.6824e-13, 1.4601e-15, 2.6543e-11, 3.3531e-13, 1.2307e-12,\n",
      "        1.6248e-11, 1.3353e-20, 1.6919e-14, 1.3775e-14, 2.2185e-15, 1.5962e-17,\n",
      "        1.1750e-14, 1.0265e-12, 2.7991e-15, 3.4300e-15, 5.0667e-17, 1.2326e-13,\n",
      "        9.6995e-15, 9.8868e-13, 1.2946e-17, 5.0908e-16, 3.7743e-11, 4.6416e-15,\n",
      "        3.3730e-15, 3.9600e-16, 4.4475e-14, 1.0885e-17, 5.8207e-14, 1.0238e-14,\n",
      "        4.1908e-16, 3.9615e-12, 2.6339e-16, 4.1961e-12, 5.6520e-13, 4.9567e-14,\n",
      "        5.9349e-13, 3.1472e-11, 7.7339e-12, 4.8961e-12, 7.8319e-12, 2.6522e-12,\n",
      "        1.2928e-13, 3.4082e-13, 2.0448e-14, 4.1938e-13, 3.6080e-11, 9.6533e-09,\n",
      "        7.4094e-14, 1.8462e-12, 7.1075e-10, 1.4397e-13, 1.4066e-10, 9.1764e-14,\n",
      "        7.3463e-11, 3.7490e-13, 3.2907e-12, 3.4882e-11, 2.4380e-13, 1.0285e-09,\n",
      "        4.0849e-14, 1.5639e-12, 1.0384e-14, 8.9807e-08, 2.7569e-10, 2.7699e-10,\n",
      "        1.7417e-08, 8.4917e-18, 3.2353e-13, 3.3081e-12, 4.6343e-12, 5.4573e-15,\n",
      "        4.9045e-13, 1.6863e-12, 2.4701e-13, 3.5924e-15, 2.8997e-15, 2.6770e-13,\n",
      "        1.7412e-13, 1.2593e-11, 2.5678e-15, 3.5749e-14, 1.2322e-08, 8.8110e-14,\n",
      "        4.2711e-13, 2.1943e-13, 3.5504e-12, 1.5250e-15, 1.0962e-12, 5.6366e-14,\n",
      "        5.6914e-16, 2.2614e-10, 6.4688e-16, 2.4501e-12, 1.1183e-14, 4.3732e-14,\n",
      "        2.1881e-12, 2.3697e-11, 3.1454e-14, 5.8445e-12, 1.1400e-10, 9.2926e-12,\n",
      "        2.0437e-14, 6.5904e-15, 6.1879e-14, 1.2047e-14, 7.2052e-14, 2.2062e-13,\n",
      "        5.9799e-16, 1.1504e-14, 3.5350e-11, 2.5936e-16, 3.0720e-13, 7.4994e-15,\n",
      "        1.6967e-12, 1.1840e-12, 8.6588e-12, 3.5834e-11, 2.3040e-13, 7.8133e-13,\n",
      "        3.3549e-13, 1.2964e-12, 3.5301e-14, 1.9432e-14, 2.0474e-13, 1.1985e-13,\n",
      "        1.0851e-12, 3.2465e-17, 6.6184e-13, 1.7077e-13, 1.2886e-14, 2.6880e-16,\n",
      "        6.5175e-13, 3.1184e-13, 4.0485e-14, 5.9396e-14, 2.4651e-15, 3.3561e-13,\n",
      "        3.2885e-13, 4.6362e-12, 1.3647e-15, 2.9220e-14, 3.6874e-12, 1.2630e-13,\n",
      "        9.7485e-14, 3.2872e-14, 2.1113e-13, 1.2737e-15, 1.5707e-12, 1.8975e-13])}, 1840105321960: {'step': 20, 'exp_avg': tensor([[ 3.7758e-09,  6.4556e-07, -1.7158e-09,  ..., -3.5980e-09,\n",
      "          9.8312e-09, -9.2130e-09],\n",
      "        [ 2.2621e-10,  3.4797e-08, -4.5874e-11,  ..., -2.2410e-10,\n",
      "          7.1387e-10, -7.1827e-10],\n",
      "        [ 9.6794e-10,  9.5197e-08, -6.8122e-10,  ..., -9.3238e-10,\n",
      "          1.6884e-09, -1.4511e-09],\n",
      "        ...,\n",
      "        [ 7.2866e-09,  2.3283e-06, -2.0684e-09,  ..., -5.9186e-09,\n",
      "          2.5448e-08, -2.4730e-08],\n",
      "        [ 1.8690e-10,  2.3489e-08, -7.6040e-11,  ..., -1.9058e-10,\n",
      "          4.4158e-10, -4.2608e-10],\n",
      "        [ 3.6403e-09,  8.1561e-07, -1.6111e-09,  ..., -3.3663e-09,\n",
      "          9.8714e-09, -8.9709e-09]]), 'exp_avg_sq': tensor([[1.7698e-17, 9.0011e-13, 3.6206e-18,  ..., 1.7024e-17, 1.2832e-16,\n",
      "         1.0087e-16],\n",
      "        [2.2140e-21, 1.0292e-15, 3.3249e-22,  ..., 2.0747e-21, 2.7576e-20,\n",
      "         2.2747e-20],\n",
      "        [3.0855e-20, 5.4995e-15, 1.5904e-20,  ..., 2.8232e-20, 1.2663e-19,\n",
      "         8.4284e-20],\n",
      "        ...,\n",
      "        [2.6458e-16, 1.3016e-11, 5.5120e-17,  ..., 2.5451e-16, 1.8914e-15,\n",
      "         1.4847e-15],\n",
      "        [2.7351e-20, 5.9682e-16, 5.9130e-21,  ..., 2.6444e-20, 1.7127e-19,\n",
      "         1.3779e-19],\n",
      "        [2.1605e-18, 3.0303e-13, 3.6245e-19,  ..., 2.0464e-18, 2.0627e-17,\n",
      "         1.5838e-17]])}, 1840105322248: {'step': 20, 'exp_avg': tensor([[-5.1742e-08,  4.1335e-09,  3.1148e-08,  ..., -1.4845e-07,\n",
      "         -5.3256e-09,  8.4673e-08],\n",
      "        [-2.0738e-09,  1.6519e-10,  1.0269e-09,  ..., -5.9277e-09,\n",
      "         -4.5837e-10,  2.2134e-09],\n",
      "        [-8.2508e-09,  5.8158e-10,  5.2798e-09,  ..., -2.4229e-08,\n",
      "         -5.3752e-10,  1.4494e-08],\n",
      "        ...,\n",
      "        [-2.0640e-07,  1.1298e-08,  1.2530e-07,  ..., -5.7867e-07,\n",
      "         -1.8086e-08,  3.5020e-07],\n",
      "        [-1.4922e-09,  2.0123e-10,  8.5206e-10,  ..., -4.3088e-09,\n",
      "         -3.5054e-10,  1.9519e-09],\n",
      "        [-7.5286e-08,  1.8002e-09,  4.3773e-08,  ..., -2.1241e-07,\n",
      "         -5.5085e-09,  1.2934e-07]]), 'exp_avg_sq': tensor([[7.2716e-15, 4.7515e-17, 3.8713e-15,  ..., 6.0309e-14, 3.5400e-17,\n",
      "         2.2109e-14],\n",
      "        [1.2858e-17, 1.9772e-19, 9.3207e-18,  ..., 1.0734e-16, 1.6372e-20,\n",
      "         5.1172e-17],\n",
      "        [8.0070e-17, 1.4049e-18, 5.7849e-17,  ..., 6.7282e-16, 3.2590e-20,\n",
      "         3.5078e-16],\n",
      "        ...,\n",
      "        [1.0405e-13, 6.6771e-16, 5.4895e-14,  ..., 8.6434e-13, 5.2562e-16,\n",
      "         3.1388e-13],\n",
      "        [3.4377e-18, 1.0565e-20, 1.3156e-18,  ..., 2.8523e-17, 4.2075e-20,\n",
      "         7.8800e-18],\n",
      "        [2.9870e-15, 2.7144e-17, 1.8363e-15,  ..., 2.4746e-14, 7.6964e-18,\n",
      "         1.0336e-14]])}, 1840105320880: {'step': 20, 'exp_avg': tensor([-7.5447e-07, -3.9589e-08, -1.1873e-07,  4.8549e-06, -9.9163e-09,\n",
      "        -7.0077e-08, -6.6285e-07, -2.5474e-06,  1.8153e-07,  6.4556e-08,\n",
      "         1.0010e-08,  6.9683e-07, -1.4735e-07, -2.7835e-07, -2.2438e-06,\n",
      "        -3.0108e-07, -1.0131e-07, -2.7657e-06,  8.5228e-07, -6.5260e-07,\n",
      "        -1.9937e-06, -2.8617e-06, -1.2066e-06, -1.3886e-06,  4.3179e-06,\n",
      "         3.3412e-07, -2.2438e-06, -4.2092e-06, -1.1076e-06, -2.9589e-08,\n",
      "         1.9718e-07,  9.1503e-07, -9.3965e-08, -5.0220e-07, -5.3646e-07,\n",
      "        -6.4393e-07,  4.2615e-07, -3.7458e-06, -3.0779e-06, -6.0571e-08,\n",
      "        -1.2424e-06,  1.1765e-07, -1.1258e-06, -2.5957e-07,  2.4010e-07,\n",
      "        -3.8825e-07, -2.6929e-07, -3.7543e-06, -1.1829e-06,  3.0873e-07,\n",
      "        -1.0086e-07, -5.0034e-07, -7.7267e-08, -2.0530e-07, -3.2429e-06,\n",
      "        -1.5200e-06,  7.1197e-08, -2.4143e-06, -2.6453e-08, -8.5146e-07,\n",
      "        -4.2866e-07,  5.7201e-09, -6.1885e-08,  5.2928e-06, -5.4289e-09,\n",
      "        -3.5166e-08, -1.0569e-07, -3.1346e-06,  9.0584e-08,  4.2940e-08,\n",
      "         4.2441e-09,  4.4876e-07, -1.6152e-08, -8.3429e-08, -2.0214e-06,\n",
      "        -6.1605e-08, -2.4381e-08, -2.4921e-06,  4.3870e-07, -3.6982e-07,\n",
      "        -2.0484e-06, -3.4578e-06, -1.1563e-06, -9.3432e-07,  3.6019e-06,\n",
      "         1.1836e-07, -1.5147e-06, -4.0701e-06, -8.5587e-07, -1.4486e-08,\n",
      "         6.3474e-08,  4.1391e-07, -7.8299e-08,  2.0884e-07, -1.1703e-07,\n",
      "        -1.8172e-07,  2.2846e-07, -3.0778e-06, -2.0285e-06, -4.6181e-10,\n",
      "        -1.0104e-06,  1.0500e-07, -5.7562e-07, -4.3865e-08,  1.1308e-07,\n",
      "        -1.7239e-07, -1.7116e-07, -4.7565e-06, -6.7995e-07,  1.4421e-07,\n",
      "        -4.3290e-08, -1.0071e-07,  6.3331e-09, -7.2058e-08, -3.9133e-06,\n",
      "        -8.9207e-07,  1.7650e-08, -2.0518e-06, -9.7460e-09, -3.5414e-07,\n",
      "        -4.6522e-06, -1.2960e-06, -1.3834e-07, -5.8585e-06, -4.9917e-07,\n",
      "         1.2977e-06, -1.0391e-05, -4.5653e-06, -1.7948e-06, -6.1599e-07,\n",
      "         5.4673e-07,  3.0580e-06,  2.0975e-07, -5.0200e-06, -4.6071e-06,\n",
      "        -4.3867e-08, -9.3412e-07, -8.8313e-06,  3.3854e-06,  4.5795e-06,\n",
      "         3.1377e-06,  7.7723e-06,  1.7995e-06,  8.4548e-06,  6.8613e-06,\n",
      "         1.9587e-06,  9.9422e-06, -1.7712e-05, -1.5517e-06, -6.4206e-07,\n",
      "         1.2040e-06, -8.5325e-07, -1.3791e-06,  5.3923e-06,  1.2987e-06,\n",
      "        -5.3567e-07,  2.2966e-06, -1.0130e-05,  1.3746e-05,  1.4549e-07,\n",
      "        -2.5224e-06,  2.3432e-06, -3.4131e-06,  1.3355e-06, -5.4827e-07,\n",
      "        -4.6365e-07,  2.3362e-06, -4.3115e-06,  5.8141e-06, -2.5462e-06,\n",
      "        -1.0218e-06,  2.0553e-06, -1.1822e-06, -5.0121e-07,  7.2712e-06,\n",
      "         2.9731e-06, -1.0595e-06, -9.5325e-06, -6.2371e-07,  1.1433e-06,\n",
      "        -7.0918e-07, -3.7386e-08, -1.1119e-07,  7.4569e-06, -9.3074e-09,\n",
      "        -5.8690e-08, -6.0737e-07, -4.5150e-06,  1.8320e-07,  6.6550e-08,\n",
      "         1.1490e-08,  8.0319e-07, -1.2991e-07, -2.6311e-07, -2.9169e-06,\n",
      "        -2.9776e-07, -9.4798e-08, -3.0858e-06,  8.8114e-07, -7.0467e-07,\n",
      "        -3.5185e-06, -3.8373e-06, -1.9363e-06, -1.6483e-06,  4.7019e-06,\n",
      "         3.2904e-07, -3.1437e-06, -4.0312e-06, -1.5883e-06, -3.4635e-08,\n",
      "         1.7446e-07,  1.0102e-06, -8.0810e-08, -5.8847e-07, -4.2327e-07,\n",
      "        -6.0735e-07,  4.6921e-07, -4.6467e-06, -3.1571e-06, -5.9848e-08,\n",
      "        -1.3935e-06,  1.1764e-07, -1.5145e-06, -2.5873e-07,  2.2902e-07,\n",
      "        -5.9117e-07, -3.0155e-07, -6.8451e-06, -1.2533e-06,  2.9715e-07,\n",
      "        -1.0199e-07, -5.8765e-07, -8.2856e-08, -2.2989e-07, -4.9638e-06,\n",
      "        -1.6848e-06,  7.2679e-08, -2.6404e-06, -2.7176e-08, -9.4077e-07]), 'exp_avg_sq': tensor([1.2282e-12, 1.2730e-15, 6.7698e-15, 1.1352e-10, 4.9765e-16, 3.0369e-14,\n",
      "        1.0505e-13, 2.6507e-11, 1.3120e-13, 3.0191e-14, 8.9083e-15, 1.7791e-12,\n",
      "        3.2577e-15, 3.7644e-14, 1.7713e-11, 2.6041e-15, 7.2722e-15, 2.4094e-11,\n",
      "        4.0209e-12, 6.4127e-13, 1.7230e-11, 3.5113e-11, 5.7596e-12, 4.9771e-12,\n",
      "        1.0317e-10, 9.2096e-13, 1.1411e-11, 4.9928e-11, 3.8198e-12, 2.1618e-15,\n",
      "        1.0827e-13, 6.4270e-12, 3.1581e-14, 1.1056e-13, 1.5703e-13, 9.6840e-14,\n",
      "        7.6474e-13, 4.1322e-11, 1.7928e-11, 2.7092e-16, 5.6329e-12, 2.6293e-13,\n",
      "        1.4488e-12, 3.0127e-14, 3.8748e-13, 5.5647e-15, 2.7245e-14, 6.1535e-11,\n",
      "        2.4671e-12, 3.5845e-13, 2.7525e-14, 8.4866e-14, 5.8236e-16, 1.4947e-14,\n",
      "        3.8685e-11, 3.2817e-12, 4.2605e-14, 1.6168e-11, 8.1790e-16, 3.2746e-13,\n",
      "        7.0141e-13, 3.6070e-16, 3.8445e-15, 1.2102e-10, 1.0086e-16, 3.2782e-14,\n",
      "        6.2205e-14, 3.9798e-11, 2.9153e-14, 6.8020e-15, 1.0281e-15, 6.1516e-13,\n",
      "        9.6305e-16, 1.2294e-14, 1.5376e-11, 9.8603e-17, 2.4175e-15, 2.2195e-11,\n",
      "        7.1297e-13, 2.9815e-13, 1.9567e-11, 4.5568e-11, 5.6259e-12, 3.4950e-12,\n",
      "        5.6662e-11, 7.4810e-14, 8.4147e-12, 6.4168e-11, 3.7694e-12, 9.2486e-16,\n",
      "        6.9790e-15, 1.1577e-12, 1.6965e-14, 5.6541e-13, 2.0678e-14, 3.7419e-14,\n",
      "        2.0863e-13, 3.8707e-11, 1.2270e-11, 6.7182e-19, 4.1947e-12, 1.0914e-13,\n",
      "        1.0312e-12, 1.7637e-14, 6.3041e-14, 3.3635e-15, 1.9132e-14, 9.0885e-11,\n",
      "        1.3974e-12, 6.0550e-14, 5.5040e-15, 2.7064e-14, 8.1326e-18, 5.2289e-15,\n",
      "        6.6138e-11, 1.5177e-12, 1.7289e-15, 1.8835e-11, 1.0651e-16, 2.9681e-13,\n",
      "        9.3747e-11, 1.8176e-11, 5.8189e-13, 2.0110e-10, 1.1261e-12, 1.2177e-11,\n",
      "        3.6319e-10, 1.2878e-10, 1.1156e-11, 1.9976e-12, 2.3008e-12, 3.4264e-11,\n",
      "        4.2818e-15, 8.5522e-11, 1.1053e-10, 1.6469e-12, 2.4941e-12, 3.7169e-10,\n",
      "        5.6276e-11, 6.0820e-11, 9.7855e-11, 2.6381e-10, 2.9777e-11, 3.7557e-10,\n",
      "        2.7721e-10, 1.9838e-11, 5.4997e-10, 1.0660e-09, 4.4848e-11, 1.1206e-12,\n",
      "        3.5993e-12, 1.9828e-11, 8.3839e-12, 9.2016e-11, 1.6360e-11, 6.4489e-12,\n",
      "        3.1506e-11, 5.5039e-10, 7.2589e-10, 1.4149e-12, 5.7603e-11, 4.9575e-11,\n",
      "        1.0465e-10, 2.1566e-12, 5.5265e-12, 6.2459e-15, 6.6356e-12, 1.4211e-10,\n",
      "        1.4578e-10, 2.0783e-11, 4.8922e-12, 3.0130e-11, 1.1932e-11, 9.6067e-13,\n",
      "        3.5205e-10, 3.6135e-11, 3.9819e-12, 4.1963e-10, 4.5252e-13, 3.0096e-11,\n",
      "        1.1042e-12, 9.7046e-16, 5.7545e-15, 2.8978e-10, 4.3431e-16, 2.8904e-14,\n",
      "        6.3859e-14, 7.6566e-11, 1.3400e-13, 3.0393e-14, 1.0299e-14, 2.3853e-12,\n",
      "        2.5089e-15, 3.1820e-14, 2.9520e-11, 2.5356e-15, 6.0811e-15, 3.1415e-11,\n",
      "        4.1596e-12, 7.3308e-13, 4.0756e-11, 6.0723e-11, 1.1006e-11, 6.6419e-12,\n",
      "        1.1911e-10, 8.5918e-13, 2.0863e-11, 5.0408e-11, 6.4887e-12, 3.0160e-15,\n",
      "        8.4730e-14, 7.2546e-12, 2.5090e-14, 1.9962e-13, 9.1582e-14, 8.8527e-14,\n",
      "        9.0180e-13, 6.2582e-11, 1.9372e-11, 2.7483e-16, 6.6211e-12, 2.9383e-13,\n",
      "        2.5862e-12, 2.9385e-14, 3.3697e-13, 1.4048e-14, 3.4463e-14, 1.8479e-10,\n",
      "        2.6253e-12, 3.3350e-13, 2.7772e-14, 1.1934e-13, 6.2875e-16, 1.9711e-14,\n",
      "        8.4629e-11, 3.9276e-12, 4.4585e-14, 1.7790e-11, 8.6253e-16, 3.9469e-13])}, 1840105321888: {'step': 20, 'exp_avg': tensor([-7.5447e-07, -3.9589e-08, -1.1873e-07,  4.8549e-06, -9.9163e-09,\n",
      "        -7.0077e-08, -6.6285e-07, -2.5474e-06,  1.8153e-07,  6.4556e-08,\n",
      "         1.0010e-08,  6.9683e-07, -1.4735e-07, -2.7835e-07, -2.2438e-06,\n",
      "        -3.0108e-07, -1.0131e-07, -2.7657e-06,  8.5228e-07, -6.5260e-07,\n",
      "        -1.9937e-06, -2.8617e-06, -1.2066e-06, -1.3886e-06,  4.3179e-06,\n",
      "         3.3412e-07, -2.2438e-06, -4.2092e-06, -1.1076e-06, -2.9589e-08,\n",
      "         1.9718e-07,  9.1503e-07, -9.3965e-08, -5.0220e-07, -5.3646e-07,\n",
      "        -6.4393e-07,  4.2615e-07, -3.7458e-06, -3.0779e-06, -6.0571e-08,\n",
      "        -1.2424e-06,  1.1765e-07, -1.1258e-06, -2.5957e-07,  2.4010e-07,\n",
      "        -3.8825e-07, -2.6929e-07, -3.7543e-06, -1.1829e-06,  3.0873e-07,\n",
      "        -1.0086e-07, -5.0034e-07, -7.7267e-08, -2.0530e-07, -3.2429e-06,\n",
      "        -1.5200e-06,  7.1197e-08, -2.4143e-06, -2.6453e-08, -8.5146e-07,\n",
      "        -4.2866e-07,  5.7201e-09, -6.1885e-08,  5.2928e-06, -5.4289e-09,\n",
      "        -3.5166e-08, -1.0569e-07, -3.1346e-06,  9.0584e-08,  4.2940e-08,\n",
      "         4.2441e-09,  4.4876e-07, -1.6152e-08, -8.3429e-08, -2.0214e-06,\n",
      "        -6.1605e-08, -2.4381e-08, -2.4921e-06,  4.3870e-07, -3.6982e-07,\n",
      "        -2.0484e-06, -3.4578e-06, -1.1563e-06, -9.3432e-07,  3.6019e-06,\n",
      "         1.1836e-07, -1.5147e-06, -4.0701e-06, -8.5587e-07, -1.4486e-08,\n",
      "         6.3474e-08,  4.1391e-07, -7.8299e-08,  2.0884e-07, -1.1703e-07,\n",
      "        -1.8172e-07,  2.2846e-07, -3.0778e-06, -2.0285e-06, -4.6181e-10,\n",
      "        -1.0104e-06,  1.0500e-07, -5.7562e-07, -4.3865e-08,  1.1308e-07,\n",
      "        -1.7239e-07, -1.7116e-07, -4.7565e-06, -6.7995e-07,  1.4421e-07,\n",
      "        -4.3290e-08, -1.0071e-07,  6.3331e-09, -7.2058e-08, -3.9133e-06,\n",
      "        -8.9207e-07,  1.7650e-08, -2.0518e-06, -9.7460e-09, -3.5414e-07,\n",
      "        -4.6522e-06, -1.2960e-06, -1.3834e-07, -5.8585e-06, -4.9917e-07,\n",
      "         1.2977e-06, -1.0391e-05, -4.5653e-06, -1.7948e-06, -6.1599e-07,\n",
      "         5.4673e-07,  3.0580e-06,  2.0975e-07, -5.0200e-06, -4.6071e-06,\n",
      "        -4.3867e-08, -9.3412e-07, -8.8313e-06,  3.3854e-06,  4.5795e-06,\n",
      "         3.1377e-06,  7.7723e-06,  1.7995e-06,  8.4548e-06,  6.8613e-06,\n",
      "         1.9587e-06,  9.9422e-06, -1.7712e-05, -1.5517e-06, -6.4206e-07,\n",
      "         1.2040e-06, -8.5325e-07, -1.3791e-06,  5.3923e-06,  1.2987e-06,\n",
      "        -5.3567e-07,  2.2966e-06, -1.0130e-05,  1.3746e-05,  1.4549e-07,\n",
      "        -2.5224e-06,  2.3432e-06, -3.4131e-06,  1.3355e-06, -5.4827e-07,\n",
      "        -4.6365e-07,  2.3362e-06, -4.3115e-06,  5.8141e-06, -2.5462e-06,\n",
      "        -1.0218e-06,  2.0553e-06, -1.1822e-06, -5.0121e-07,  7.2712e-06,\n",
      "         2.9731e-06, -1.0595e-06, -9.5325e-06, -6.2371e-07,  1.1433e-06,\n",
      "        -7.0918e-07, -3.7386e-08, -1.1119e-07,  7.4569e-06, -9.3074e-09,\n",
      "        -5.8690e-08, -6.0737e-07, -4.5150e-06,  1.8320e-07,  6.6550e-08,\n",
      "         1.1490e-08,  8.0319e-07, -1.2991e-07, -2.6311e-07, -2.9169e-06,\n",
      "        -2.9776e-07, -9.4798e-08, -3.0858e-06,  8.8114e-07, -7.0467e-07,\n",
      "        -3.5185e-06, -3.8373e-06, -1.9363e-06, -1.6483e-06,  4.7019e-06,\n",
      "         3.2904e-07, -3.1437e-06, -4.0312e-06, -1.5883e-06, -3.4635e-08,\n",
      "         1.7446e-07,  1.0102e-06, -8.0810e-08, -5.8847e-07, -4.2327e-07,\n",
      "        -6.0735e-07,  4.6921e-07, -4.6467e-06, -3.1571e-06, -5.9848e-08,\n",
      "        -1.3935e-06,  1.1764e-07, -1.5145e-06, -2.5873e-07,  2.2902e-07,\n",
      "        -5.9117e-07, -3.0155e-07, -6.8451e-06, -1.2533e-06,  2.9715e-07,\n",
      "        -1.0199e-07, -5.8765e-07, -8.2856e-08, -2.2989e-07, -4.9638e-06,\n",
      "        -1.6848e-06,  7.2679e-08, -2.6404e-06, -2.7176e-08, -9.4077e-07]), 'exp_avg_sq': tensor([1.2282e-12, 1.2730e-15, 6.7698e-15, 1.1352e-10, 4.9765e-16, 3.0369e-14,\n",
      "        1.0505e-13, 2.6507e-11, 1.3120e-13, 3.0191e-14, 8.9083e-15, 1.7791e-12,\n",
      "        3.2577e-15, 3.7644e-14, 1.7713e-11, 2.6041e-15, 7.2722e-15, 2.4094e-11,\n",
      "        4.0209e-12, 6.4127e-13, 1.7230e-11, 3.5113e-11, 5.7596e-12, 4.9771e-12,\n",
      "        1.0317e-10, 9.2096e-13, 1.1411e-11, 4.9928e-11, 3.8198e-12, 2.1618e-15,\n",
      "        1.0827e-13, 6.4270e-12, 3.1581e-14, 1.1056e-13, 1.5703e-13, 9.6840e-14,\n",
      "        7.6474e-13, 4.1322e-11, 1.7928e-11, 2.7092e-16, 5.6329e-12, 2.6293e-13,\n",
      "        1.4488e-12, 3.0127e-14, 3.8748e-13, 5.5647e-15, 2.7245e-14, 6.1535e-11,\n",
      "        2.4671e-12, 3.5845e-13, 2.7525e-14, 8.4866e-14, 5.8236e-16, 1.4947e-14,\n",
      "        3.8685e-11, 3.2817e-12, 4.2605e-14, 1.6168e-11, 8.1790e-16, 3.2746e-13,\n",
      "        7.0141e-13, 3.6070e-16, 3.8445e-15, 1.2102e-10, 1.0086e-16, 3.2782e-14,\n",
      "        6.2205e-14, 3.9798e-11, 2.9153e-14, 6.8020e-15, 1.0281e-15, 6.1516e-13,\n",
      "        9.6305e-16, 1.2294e-14, 1.5376e-11, 9.8603e-17, 2.4175e-15, 2.2195e-11,\n",
      "        7.1297e-13, 2.9815e-13, 1.9567e-11, 4.5568e-11, 5.6259e-12, 3.4950e-12,\n",
      "        5.6662e-11, 7.4810e-14, 8.4147e-12, 6.4168e-11, 3.7694e-12, 9.2486e-16,\n",
      "        6.9790e-15, 1.1577e-12, 1.6965e-14, 5.6541e-13, 2.0678e-14, 3.7419e-14,\n",
      "        2.0863e-13, 3.8707e-11, 1.2270e-11, 6.7182e-19, 4.1947e-12, 1.0914e-13,\n",
      "        1.0312e-12, 1.7637e-14, 6.3041e-14, 3.3635e-15, 1.9132e-14, 9.0885e-11,\n",
      "        1.3974e-12, 6.0550e-14, 5.5040e-15, 2.7064e-14, 8.1326e-18, 5.2289e-15,\n",
      "        6.6138e-11, 1.5177e-12, 1.7289e-15, 1.8835e-11, 1.0651e-16, 2.9681e-13,\n",
      "        9.3747e-11, 1.8176e-11, 5.8189e-13, 2.0110e-10, 1.1261e-12, 1.2177e-11,\n",
      "        3.6319e-10, 1.2878e-10, 1.1156e-11, 1.9976e-12, 2.3008e-12, 3.4264e-11,\n",
      "        4.2818e-15, 8.5522e-11, 1.1053e-10, 1.6469e-12, 2.4941e-12, 3.7169e-10,\n",
      "        5.6276e-11, 6.0820e-11, 9.7855e-11, 2.6381e-10, 2.9777e-11, 3.7557e-10,\n",
      "        2.7721e-10, 1.9838e-11, 5.4997e-10, 1.0660e-09, 4.4848e-11, 1.1206e-12,\n",
      "        3.5993e-12, 1.9828e-11, 8.3839e-12, 9.2016e-11, 1.6360e-11, 6.4489e-12,\n",
      "        3.1506e-11, 5.5039e-10, 7.2589e-10, 1.4149e-12, 5.7603e-11, 4.9575e-11,\n",
      "        1.0465e-10, 2.1566e-12, 5.5265e-12, 6.2459e-15, 6.6356e-12, 1.4211e-10,\n",
      "        1.4578e-10, 2.0783e-11, 4.8922e-12, 3.0130e-11, 1.1932e-11, 9.6067e-13,\n",
      "        3.5205e-10, 3.6135e-11, 3.9819e-12, 4.1963e-10, 4.5252e-13, 3.0096e-11,\n",
      "        1.1042e-12, 9.7046e-16, 5.7545e-15, 2.8978e-10, 4.3431e-16, 2.8904e-14,\n",
      "        6.3859e-14, 7.6566e-11, 1.3400e-13, 3.0393e-14, 1.0299e-14, 2.3853e-12,\n",
      "        2.5089e-15, 3.1820e-14, 2.9520e-11, 2.5356e-15, 6.0811e-15, 3.1415e-11,\n",
      "        4.1596e-12, 7.3308e-13, 4.0756e-11, 6.0723e-11, 1.1006e-11, 6.6419e-12,\n",
      "        1.1911e-10, 8.5918e-13, 2.0863e-11, 5.0408e-11, 6.4887e-12, 3.0160e-15,\n",
      "        8.4730e-14, 7.2546e-12, 2.5090e-14, 1.9962e-13, 9.1582e-14, 8.8527e-14,\n",
      "        9.0180e-13, 6.2582e-11, 1.9372e-11, 2.7483e-16, 6.6211e-12, 2.9383e-13,\n",
      "        2.5862e-12, 2.9385e-14, 3.3697e-13, 1.4048e-14, 3.4463e-14, 1.8479e-10,\n",
      "        2.6253e-12, 3.3350e-13, 2.7772e-14, 1.1934e-13, 6.2875e-16, 1.9711e-14,\n",
      "        8.4629e-11, 3.9276e-12, 4.4585e-14, 1.7790e-11, 8.6253e-16, 3.9469e-13])}, 1840105321816: {'step': 20, 'exp_avg': tensor([[-2.7135e-05, -7.4913e-07,  1.7068e-05,  4.6853e-05, -3.6753e-07,\n",
      "         -4.3489e-05, -1.8122e-05, -1.0489e-04,  6.4629e-06,  3.7988e-06,\n",
      "          2.6482e-07, -1.0397e-05, -9.0908e-06, -9.6535e-06, -8.0741e-05,\n",
      "         -9.0623e-06,  9.3502e-06, -7.3171e-05, -9.1703e-06,  2.9355e-05,\n",
      "          9.0777e-05,  1.0340e-04,  8.6061e-05,  3.8413e-05, -3.3020e-05,\n",
      "         -1.6596e-06,  4.8264e-05, -1.0785e-04, -8.3477e-05, -6.8994e-06,\n",
      "         -1.6646e-06,  9.6324e-06, -5.8220e-06, -9.0732e-05,  2.3962e-05,\n",
      "         -3.9506e-05, -9.0773e-06, -8.7986e-05,  7.8325e-05, -1.3639e-06,\n",
      "         -6.9543e-05, -6.6806e-06, -5.1778e-05, -3.2000e-05,  3.5878e-06,\n",
      "          7.8290e-05,  1.0980e-06, -1.2222e-04,  4.0722e-05,  6.3269e-06,\n",
      "         -8.1662e-06,  2.3879e-05, -3.8671e-06, -2.1943e-05,  1.2225e-04,\n",
      "          5.3488e-05,  4.1577e-07, -7.0090e-05, -9.5965e-07,  4.8732e-05]]), 'exp_avg_sq': tensor([[1.5212e-09, 5.7330e-12, 5.7845e-10, 3.2602e-08, 3.1486e-12, 6.2094e-09,\n",
      "         4.7620e-11, 3.4936e-08, 1.7318e-10, 2.2719e-10, 9.2238e-12, 8.6422e-10,\n",
      "         3.6197e-12, 2.4270e-11, 2.0438e-08, 2.1474e-12, 1.3272e-10, 1.4405e-08,\n",
      "         8.9379e-10, 1.5845e-09, 2.5972e-08, 3.6482e-08, 2.3475e-08, 3.3967e-09,\n",
      "         1.2905e-08, 2.9844e-10, 5.0330e-09, 2.6984e-08, 1.9322e-08, 1.1661e-10,\n",
      "         6.1285e-11, 1.2869e-09, 3.0688e-10, 2.1099e-08, 6.7867e-10, 1.5664e-09,\n",
      "         3.5581e-10, 1.9103e-08, 9.2981e-09, 1.6349e-13, 1.4603e-08, 5.1794e-10,\n",
      "         4.2277e-09, 2.2458e-09, 1.4989e-10, 1.2147e-08, 1.3640e-10, 4.9524e-08,\n",
      "         3.4026e-09, 2.5537e-10, 1.4855e-10, 4.9179e-10, 4.3442e-13, 7.7579e-10,\n",
      "         4.0798e-08, 5.0519e-09, 1.7070e-11, 1.2609e-08, 1.5552e-11, 3.7677e-09]])}, 1840105321744: {'step': 20, 'exp_avg': tensor([-0.0003]), 'exp_avg_sq': tensor([3.6083e-07])}}\n",
      "param_groups \t [{'lr': 0.0001, 'betas': (0.9, 0.999), 'eps': 1e-08, 'weight_decay': 0, 'amsgrad': False, 'params': [1840105321672, 1840105321528, 1840105322392, 1840105321384, 1840105321960, 1840105322248, 1840105320880, 1840105321888, 1840105321816, 1840105321744]}]\n"
     ]
    }
   ],
   "source": [
    "# Print model's state_dict\n",
    "print(\"Model's state_dict:\")\n",
    "for param_tensor in net.state_dict():\n",
    "    print(param_tensor, \"\\t\", net.state_dict()[param_tensor].size())\n",
    "\n",
    "# Print optimizer's state_dict\n",
    "print(\"Optimizer's state_dict:\")\n",
    "for var_name in optimizer.state_dict():\n",
    "    print(var_name, \"\\t\", optimizer.state_dict()[var_name])"
   ]
  },
  {
   "cell_type": "code",
   "execution_count": 245,
   "metadata": {
    "ExecuteTime": {
     "end_time": "2019-03-28T05:03:21.015920Z",
     "start_time": "2019-03-28T05:03:21.012411Z"
    }
   },
   "outputs": [],
   "source": [
    "net = net.eval()  # change to test mode"
   ]
  },
  {
   "cell_type": "code",
   "execution_count": 246,
   "metadata": {
    "ExecuteTime": {
     "end_time": "2019-03-28T05:03:26.472950Z",
     "start_time": "2019-03-28T05:03:26.469445Z"
    }
   },
   "outputs": [],
   "source": [
    "# prepare the data for prediction\n",
    "data_X_pred = data_X.reshape(-1, 1, look_back)\n",
    "data_X_pred = torch.from_numpy(data_X_pred)\n",
    "var_data_pred = Variable(data_X_pred)\n"
   ]
  },
  {
   "cell_type": "code",
   "execution_count": 249,
   "metadata": {
    "ExecuteTime": {
     "end_time": "2019-03-28T05:04:06.811176Z",
     "start_time": "2019-03-28T05:04:05.441009Z"
    },
    "scrolled": true
   },
   "outputs": [],
   "source": [
    "# use the model to predict\n",
    "pred_test = net(var_data_pred) # prediction\n",
    "pred_test = pred_test.view(-1).data.numpy()"
   ]
  },
  {
   "cell_type": "code",
   "execution_count": 257,
   "metadata": {
    "ExecuteTime": {
     "end_time": "2019-03-28T05:10:52.584635Z",
     "start_time": "2019-03-28T05:10:52.167222Z"
    },
    "scrolled": false
   },
   "outputs": [
    {
     "data": {
      "text/plain": [
       "<matplotlib.lines.Line2D at 0x1ac00ee5f28>"
      ]
     },
     "execution_count": 257,
     "metadata": {},
     "output_type": "execute_result"
    },
    {
     "data": {
      "image/png": "[encoded data removed]",
      "text/plain": [
       "<Figure size 1152x576 with 1 Axes>"
      ]
     },
     "metadata": {
      "needs_background": "light"
     },
     "output_type": "display_data"
    }
   ],
   "source": [
    "# plot the results\n",
    "plt.figure(figsize=(16,8))\n",
    "#plt.plot(dataset * scalar, label='Real')\n",
    "#plt.plot(pred_test * scalar, 'r', label='Prediction')\n",
    "\n",
    "plt.plot(dataset_d, dataset * scalar, label='Real')\n",
    "plt.plot(data_Y_d, pred_test * scalar,'r', label='Prediction', linewidth=0.8)\n",
    "\n",
    "plt.legend(loc='best')\n",
    "plt.axvline(x=dataset_d[train_size], linestyle='--',linewidth=0.7)\n"
   ]
  },
  {
   "cell_type": "code",
   "execution_count": 140,
   "metadata": {
    "ExecuteTime": {
     "end_time": "2019-03-28T03:44:36.127696Z",
     "start_time": "2019-03-28T03:44:36.124687Z"
    }
   },
   "outputs": [],
   "source": [
    "# get prediction"
   ]
  },
  {
   "cell_type": "code",
   "execution_count": 335,
   "metadata": {
    "ExecuteTime": {
     "end_time": "2019-03-28T06:17:28.949593Z",
     "start_time": "2019-03-28T06:17:28.946592Z"
    }
   },
   "outputs": [],
   "source": [
    "# you may need to get the latest data from yahoo"
   ]
  },
  {
   "cell_type": "code",
   "execution_count": 355,
   "metadata": {
    "ExecuteTime": {
     "end_time": "2019-03-28T06:26:07.293488Z",
     "start_time": "2019-03-28T06:26:07.286470Z"
    }
   },
   "outputs": [],
   "source": [
    "df_prediction = data_sap.reset_index()\n",
    "df_prediction_d = df_prediction[['Date']]\n",
    "df_prediction = df_prediction[['Close']]\n",
    "dataset_prediction = df_prediction.Close   # only select the 'Close' the closing price\n",
    "dataset_prediction_d = df_prediction_d.Date\n",
    "dataset_prediction = dataset_prediction.astype('float32')\n",
    "#dataset = list(map(lambda x: x / scalar, dataset))\n",
    "dataset_prediction = dataset_prediction / scalar   # data normolisation using max and min\n"
   ]
  },
  {
   "cell_type": "code",
   "execution_count": 356,
   "metadata": {
    "ExecuteTime": {
     "end_time": "2019-03-28T06:26:08.686804Z",
     "start_time": "2019-03-28T06:26:08.681780Z"
    }
   },
   "outputs": [],
   "source": [
    "dataset_prediction = dataset_prediction[len(dataset_prediction)-look_back*2:len(dataset_prediction)]\n",
    "dataset_prediction = dataset_prediction.reset_index()\n",
    "dataset_prediction = dataset_prediction['Close']"
   ]
  },
  {
   "cell_type": "code",
   "execution_count": 358,
   "metadata": {
    "ExecuteTime": {
     "end_time": "2019-03-28T06:26:17.297056Z",
     "start_time": "2019-03-28T06:26:17.289029Z"
    }
   },
   "outputs": [],
   "source": [
    "data_X_prediction, data_Y_prediction = create_dataset(dataset_prediction)\n"
   ]
  },
  {
   "cell_type": "code",
   "execution_count": 359,
   "metadata": {
    "ExecuteTime": {
     "end_time": "2019-03-28T06:26:18.273827Z",
     "start_time": "2019-03-28T06:26:18.267828Z"
    }
   },
   "outputs": [
    {
     "data": {
      "text/plain": [
       "array([[0.9993673 , 1.0023379 , 1.0003575 , ..., 1.0195022 , 1.0162013 ,\n",
       "        0.98814464],\n",
       "       [1.0023379 , 1.0003575 , 1.0178517 , ..., 1.0162013 , 0.98814464,\n",
       "        0.9773621 ],\n",
       "       [1.0003575 , 1.0178517 , 1.0116901 , ..., 0.98814464, 0.9773621 ,\n",
       "        0.9929858 ],\n",
       "       ...,\n",
       "       [1.0195022 , 1.0162013 , 0.98814464, ..., 1.1018016 , 1.1013615 ,\n",
       "        1.1013615 ],\n",
       "       [1.0162013 , 0.98814464, 0.9773621 , ..., 1.1013615 , 1.1013615 ,\n",
       "        1.0857378 ],\n",
       "       [0.98814464, 0.9773621 , 0.9929858 , ..., 1.1013615 , 1.0857378 ,\n",
       "        1.0852977 ]], dtype=float32)"
      ]
     },
     "execution_count": 359,
     "metadata": {},
     "output_type": "execute_result"
    }
   ],
   "source": [
    "data_X_prediction"
   ]
  },
  {
   "cell_type": "code",
   "execution_count": 360,
   "metadata": {
    "ExecuteTime": {
     "end_time": "2019-03-28T06:27:08.985672Z",
     "start_time": "2019-03-28T06:27:08.981668Z"
    }
   },
   "outputs": [],
   "source": [
    "# prepare the data for prediction\n",
    "data_X_prediction = data_X_prediction.reshape(-1, 1, look_back)\n",
    "data_X_prediction = torch.from_numpy(data_X_prediction)\n",
    "var_data_prediction = Variable(data_X_prediction)"
   ]
  },
  {
   "cell_type": "code",
   "execution_count": 392,
   "metadata": {
    "ExecuteTime": {
     "end_time": "2019-03-28T06:35:48.805080Z",
     "start_time": "2019-03-28T06:35:48.794017Z"
    }
   },
   "outputs": [
    {
     "data": {
      "text/plain": [
       "tensor([[98.1647]], grad_fn=<MulBackward0>)"
      ]
     },
     "execution_count": 392,
     "metadata": {},
     "output_type": "execute_result"
    }
   ],
   "source": [
    "# final prediction\n",
    "final_prediction_result = net(var_data_prediction)[len(var_data_prediction)-1] * scalar\n",
    "final_prediction_result"
   ]
  },
  {
   "cell_type": "code",
   "execution_count": 390,
   "metadata": {
    "ExecuteTime": {
     "end_time": "2019-03-28T06:35:35.792078Z",
     "start_time": "2019-03-28T06:35:35.787093Z"
    }
   },
   "outputs": [
    {
     "data": {
      "text/plain": [
       "Timestamp('2019-03-26 00:00:00')"
      ]
     },
     "execution_count": 390,
     "metadata": {},
     "output_type": "execute_result"
    }
   ],
   "source": [
    "# date of the last records\n",
    "ddd = df_prediction_d['Date'][len(df_prediction_d)-1]\n",
    "ddd"
   ]
  },
  {
   "cell_type": "code",
   "execution_count": 393,
   "metadata": {
    "ExecuteTime": {
     "end_time": "2019-03-28T06:36:48.131126Z",
     "start_time": "2019-03-28T06:36:48.127117Z"
    }
   },
   "outputs": [
    {
     "data": {
      "text/plain": [
       "100.860001"
      ]
     },
     "execution_count": 393,
     "metadata": {},
     "output_type": "execute_result"
    }
   ],
   "source": [
    "# closing price of the last records\n",
    "df_prediction['Close'][len(df_prediction)-1]"
   ]
  },
  {
   "cell_type": "code",
   "execution_count": null,
   "metadata": {},
   "outputs": [],
   "source": []
  },
  {
   "cell_type": "code",
   "execution_count": null,
   "metadata": {},
   "outputs": [],
   "source": []
  },
  {
   "cell_type": "code",
   "execution_count": null,
   "metadata": {},
   "outputs": [],
   "source": []
  },
  {
   "cell_type": "code",
   "execution_count": null,
   "metadata": {},
   "outputs": [],
   "source": []
  },
  {
   "cell_type": "code",
   "execution_count": null,
   "metadata": {},
   "outputs": [],
   "source": []
  },
  {
   "cell_type": "code",
   "execution_count": null,
   "metadata": {},
   "outputs": [],
   "source": []
  },
  {
   "cell_type": "code",
   "execution_count": null,
   "metadata": {},
   "outputs": [],
   "source": []
  },
  {
   "cell_type": "code",
   "execution_count": null,
   "metadata": {},
   "outputs": [],
   "source": []
  },
  {
   "cell_type": "code",
   "execution_count": null,
   "metadata": {},
   "outputs": [],
   "source": []
  },
  {
   "cell_type": "code",
   "execution_count": null,
   "metadata": {},
   "outputs": [],
   "source": []
  },
  {
   "cell_type": "code",
   "execution_count": null,
   "metadata": {},
   "outputs": [],
   "source": []
  },
  {
   "cell_type": "code",
   "execution_count": null,
   "metadata": {},
   "outputs": [],
   "source": []
  },
  {
   "cell_type": "code",
   "execution_count": null,
   "metadata": {},
   "outputs": [],
   "source": []
  },
  {
   "cell_type": "code",
   "execution_count": null,
   "metadata": {},
   "outputs": [],
   "source": []
  },
  {
   "cell_type": "code",
   "execution_count": 141,
   "metadata": {
    "ExecuteTime": {
     "end_time": "2019-03-28T03:45:01.319138Z",
     "start_time": "2019-03-28T03:45:01.315128Z"
    }
   },
   "outputs": [],
   "source": [
    "######## below is an attention model, not ready to use"
   ]
  },
  {
   "cell_type": "code",
   "execution_count": 79,
   "metadata": {
    "ExecuteTime": {
     "end_time": "2019-03-27T10:50:42.720233Z",
     "start_time": "2019-03-27T10:50:42.712211Z"
    }
   },
   "outputs": [],
   "source": [
    "#stock_frame1 = data_sap.reset_index()\n",
    "#stock_frame2 = data_oracle.reset_index()"
   ]
  },
  {
   "cell_type": "code",
   "execution_count": 84,
   "metadata": {
    "ExecuteTime": {
     "end_time": "2019-03-27T11:01:29.986440Z",
     "start_time": "2019-03-27T11:01:29.980426Z"
    }
   },
   "outputs": [],
   "source": [
    "ENCODER_HIDDEN_SIZE = 64\n",
    "DECODER_HIDDEN_SIZE = 64\n",
    "#DRIVING = 'stocks/MSFT.US.csv'\n",
    "#TARGET = 'stocks/AAPL.US.csv'\n",
    "\n",
    "DRIVING = data_sap.reset_index()\n",
    "TARGET = data_oracle.reset_index()"
   ]
  },
  {
   "cell_type": "code",
   "execution_count": 82,
   "metadata": {
    "ExecuteTime": {
     "end_time": "2019-03-27T11:01:14.358686Z",
     "start_time": "2019-03-27T11:01:14.331628Z"
    }
   },
   "outputs": [],
   "source": [
    "class Dataset:\n",
    "\n",
    "    def __init__(self, driving_csv, target_csv, T, split_ratio=0.8, normalized=False):\n",
    "        #stock_frame1 = pd.read_csv(driving_csv)\n",
    "        #stock_frame2 = pd.read_csv(target_csv)\n",
    "        stock_frame1 = driving_csv\n",
    "        stock_frame2 = target_csv       \n",
    "        if stock_frame1.shape[0] > stock_frame2.shape[0]:\n",
    "            stock_frame1 = self.crop_stock(stock_frame1, stock_frame2['Date'][0]).reset_index()\n",
    "        else:\n",
    "            stock_frame2 = self.crop_stock(stock_frame2, stock_frame1['Date'][0]).reset_index()\n",
    "        stock_frame1 = stock_frame1['Close'].fillna(method='pad')\n",
    "        stock_frame2 = stock_frame2['Close'].fillna(method='pad')\n",
    "        self.train_size = int(split_ratio * (stock_frame2.shape[0] - T - 1))\n",
    "        self.test_size = stock_frame2.shape[0] - T  - 1 - self.train_size\n",
    "        if normalized:\n",
    "            stock_frame2 = stock_frame2 - stock_frame2.mean()\n",
    "        self.X, self.y, self.y_seq = self.time_series_gen(stock_frame1, stock_frame2, T)\n",
    "        #self.X = self.percent_normalization(self.X)\n",
    "        #self.y = self.percent_normalization(self.y)\n",
    "        #self.y_seq = self.percent_normalization(self.y_seq)\n",
    "\n",
    "    def get_size(self):\n",
    "        return self.train_size, self.test_size\n",
    "\n",
    "    def get_num_features(self):\n",
    "        return self.X.shape[1]\n",
    "\n",
    "    def get_train_set(self):\n",
    "        return self.X[:self.train_size], self.y[:self.train_size], self.y_seq[:self.train_size]\n",
    "\n",
    "    def get_test_set(self):\n",
    "        return self.X[self.train_size:], self.y[self.train_size:], self.y_seq[self.train_size:]\n",
    "\n",
    "    def time_series_gen(self, X, y, T):\n",
    "        ts_x, ts_y, ts_y_seq = [], [], []\n",
    "        for i in range(len(X) - T - 1):\n",
    "            last = i + T\n",
    "            ts_x.append(X[i: last])\n",
    "            ts_y.append(y[last])\n",
    "            ts_y_seq.append(y[i: last])\n",
    "        return np.array(ts_x), np.array(ts_y), np.array(ts_y_seq)\n",
    "\n",
    "    def crop_stock(self, df, date):\n",
    "        start = df.loc[df['Date'] == date].index[0]\n",
    "        return df[start: ]\n",
    "\n",
    "    def log_normalization(self, X):\n",
    "        X_norm = np.zeros(X.shape[0])\n",
    "        X_norm[0] = 0\n",
    "        for i in range(1, X.shape[0]):\n",
    "            X_norm[i] = math.log(X[i] / X[i-1])\n",
    "        return X_norm\n",
    "\n",
    "    def percent_normalization(self, X):\n",
    "        if len(X.shape) == 2:\n",
    "            X_norm = np.zeros((X.shape[0], X.shape[1]))\n",
    "            for i in range(1, X.shape[0]):\n",
    "                X_norm[i, 0] = 0\n",
    "                X_norm[i] = np.true_divide(X[i] - X[i-1], X[i-1])\n",
    "        else:\n",
    "            X_norm = np.zeros(X.shape[0])\n",
    "            X_norm[0] = 0\n",
    "            for i in range(1, X.shape[0]):\n",
    "                X_norm[i] = (X[i] - X[i-1]) / X[i]\n",
    "        return X_norm"
   ]
  },
  {
   "cell_type": "code",
   "execution_count": 85,
   "metadata": {
    "ExecuteTime": {
     "end_time": "2019-03-27T11:01:43.784956Z",
     "start_time": "2019-03-27T11:01:43.751717Z"
    }
   },
   "outputs": [],
   "source": [
    "class AttnEncoder(nn.Module):\n",
    "\n",
    "    def __init__(self, input_size, hidden_size, time_step):\n",
    "        super(AttnEncoder, self).__init__()\n",
    "        self.input_size = input_size\n",
    "        self.hidden_size = hidden_size\n",
    "        self.T = time_step\n",
    "\n",
    "        self.lstm = nn.LSTM(input_size=input_size, hidden_size=hidden_size, num_layers=1)\n",
    "        self.attn1 = nn.Linear(in_features=2 * hidden_size, out_features=self.T)\n",
    "        self.attn2 = nn.Linear(in_features=self.T, out_features=self.T)\n",
    "        self.tanh = nn.Tanh()\n",
    "        self.attn3 = nn.Linear(in_features=self.T, out_features=1)\n",
    "        #self.attn = nn.Sequential(attn1, attn2, nn.Tanh(), attn3)\n",
    "\n",
    "\n",
    "    def forward(self, driving_x):\n",
    "        batch_size = driving_x.size(0)\n",
    "        # batch_size * time_step * hidden_size\n",
    "        code = self.init_variable(batch_size, self.T, self.hidden_size)\n",
    "        # initialize hidden state\n",
    "        h = self.init_variable(1, batch_size, self.hidden_size)\n",
    "        # initialize cell state\n",
    "        s = self.init_variable(1, batch_size, self.hidden_size)\n",
    "        for t in range(self.T):\n",
    "            # batch_size * input_size * (2 * hidden_size + time_step)\n",
    "            x = torch.cat((self.embedding_hidden(h), self.embedding_hidden(s)), 2)\n",
    "            z1 = self.attn1(x)\n",
    "            z2 = self.attn2(driving_x.permute(0, 2, 1))\n",
    "            x = z1 + z2\n",
    "            # batch_size * input_size * 1\n",
    "            z3 = self.attn3(self.tanh(x))\n",
    "            if batch_size > 1:\n",
    "                attn_w = F.softmax(z3.view(batch_size, self.input_size), dim=1)\n",
    "            else:\n",
    "                attn_w = self.init_variable(batch_size, self.input_size) + 1\n",
    "            # batch_size * input_size\n",
    "            weighted_x = torch.mul(attn_w, driving_x[:, t, :])\n",
    "            _, states = self.lstm(weighted_x.unsqueeze(0), (h, s))\n",
    "            h = states[0]\n",
    "            s = states[1]\n",
    "\n",
    "            # encoding result\n",
    "            # batch_size * time_step * encoder_hidden_size\n",
    "            code[:, t, :] = h\n",
    "\n",
    "        return code\n",
    "\n",
    "    def init_variable(self, *args):\n",
    "        zero_tensor = torch.zeros(args)\n",
    "        if torch.cuda.is_available():\n",
    "            zero_tensor = zero_tensor.cuda()\n",
    "        return Variable(zero_tensor)\n",
    "\n",
    "    def embedding_hidden(self, x):\n",
    "        return x.repeat(self.input_size, 1, 1).permute(1, 0, 2)\n",
    "\n",
    "\n",
    "class AttnDecoder(nn.Module):\n",
    "\n",
    "    def __init__(self, code_hidden_size, hidden_size, time_step):\n",
    "        super(AttnDecoder, self).__init__()\n",
    "        self.code_hidden_size = code_hidden_size\n",
    "        self.hidden_size = hidden_size\n",
    "        self.T = time_step\n",
    "\n",
    "        self.attn1 = nn.Linear(in_features=2 * hidden_size, out_features=code_hidden_size)\n",
    "        self.attn2 = nn.Linear(in_features=code_hidden_size, out_features=code_hidden_size)\n",
    "        self.tanh = nn.Tanh()\n",
    "        self.attn3 = nn.Linear(in_features=code_hidden_size, out_features=1)\n",
    "        self.lstm = nn.LSTM(input_size=1, hidden_size=self.hidden_size)\n",
    "        self.tilde = nn.Linear(in_features=self.code_hidden_size + 1, out_features=1)\n",
    "        self.fc1 = nn.Linear(in_features=code_hidden_size + hidden_size, out_features=hidden_size)\n",
    "        self.fc2 = nn.Linear(in_features=hidden_size, out_features=1)\n",
    "\n",
    "    def forward(self, h, y_seq):\n",
    "        batch_size = h.size(0)\n",
    "        d = self.init_variable(1, batch_size, self.hidden_size)\n",
    "        s = self.init_variable(1, batch_size, self.hidden_size)\n",
    "        ct = self.init_variable(batch_size, self.hidden_size)\n",
    "\n",
    "        for t in range(self.T):\n",
    "            # batch_size * time_step * (encoder_hidden_size + decoder_hidden_size)\n",
    "            x = torch.cat((self.embedding_hidden(d), self.embedding_hidden(s)), 2)\n",
    "            z1 = self.attn1(x)\n",
    "            z2 = self.attn2(h)\n",
    "            x = z1 + z2\n",
    "            # batch_size * time_step * 1\n",
    "            z3 = self.attn3(self.tanh(x))\n",
    "            if batch_size > 1:\n",
    "                beta_t = F.softmax(z3.view(batch_size, -1), dim=1)\n",
    "            else:\n",
    "                beta_t = self.init_variable(batch_size, self.code_hidden_size) + 1\n",
    "            # batch_size * encoder_hidden_size\n",
    "            ct = torch.bmm(beta_t.unsqueeze(1), h).squeeze(1)\n",
    "            if t < self.T - 1:\n",
    "                yc = torch.cat((y_seq[:, t].unsqueeze(1), ct), dim=1)\n",
    "                y_tilde = self.tilde(yc)\n",
    "                _, states = self.lstm(y_tilde.unsqueeze(0), (d, s))\n",
    "                d = states[0]\n",
    "                s = states[1]\n",
    "        # batch_size * 1\n",
    "        y_res = self.fc2(self.fc1(torch.cat((d.squeeze(0), ct), dim=1)))\n",
    "        return y_res\n",
    "\n",
    "    def init_variable(self, *args):\n",
    "        zero_tensor = torch.zeros(args)\n",
    "        if torch.cuda.is_available():\n",
    "            zero_tensor = zero_tensor.cuda()\n",
    "        return Variable(zero_tensor)\n",
    "\n",
    "    def embedding_hidden(self, x):\n",
    "        return x.repeat(self.T, 1, 1).permute(1, 0, 2)\n",
    "\n"
   ]
  },
  {
   "cell_type": "code",
   "execution_count": 88,
   "metadata": {
    "ExecuteTime": {
     "end_time": "2019-03-27T11:05:49.431372Z",
     "start_time": "2019-03-27T11:05:49.389257Z"
    }
   },
   "outputs": [
    {
     "name": "stderr",
     "output_type": "stream",
     "text": [
      "usage: ipykernel_launcher.py [-h] [-e EPOCH] [-b BATCH] [-s SPLIT]\n",
      "                             [-i INTERVAL] [-l LRATE] [-t] [-m MODEL]\n",
      "ipykernel_launcher.py: error: unrecognized arguments: -f C:\\Users\\fenli\\AppData\\Roaming\\jupyter\\runtime\\kernel-e39585ad-d46f-415c-a691-13d97908183d.json\n"
     ]
    },
    {
     "ename": "SystemExit",
     "evalue": "2",
     "output_type": "error",
     "traceback": [
      "An exception has occurred, use %tb to see the full traceback.\n",
      "\u001b[1;31mSystemExit\u001b[0m\u001b[1;31m:\u001b[0m 2\n"
     ]
    },
    {
     "name": "stderr",
     "output_type": "stream",
     "text": [
      "C:\\Users\\fenli\\AppData\\Local\\Continuum\\anaconda3\\envs\\fastai_1\\lib\\site-packages\\IPython\\core\\interactiveshell.py:3275: UserWarning: To exit: use 'exit', 'quit', or Ctrl-D.\n",
      "  warn(\"To exit: use 'exit', 'quit', or Ctrl-D.\", stacklevel=1)\n"
     ]
    }
   ],
   "source": [
    "import argparse\n",
    "import torch\n",
    "import matplotlib\n",
    "matplotlib.use('Agg')\n",
    "import matplotlib.pyplot as plt\n",
    "import numpy as np\n",
    "from torch import nn\n",
    "from torch.autograd import Variable\n",
    "#from model import AttnEncoder, AttnDecoder\n",
    "#from dataset import Dataset\n",
    "from torch import optim\n",
    "#import config\n",
    "\n",
    "class Trainer:\n",
    "\n",
    "    def __init__(self, driving, target, time_step, split, lr):\n",
    "        self.dataset = Dataset(driving, target, time_step, split)\n",
    "        self.encoder = AttnEncoder(input_size=self.dataset.get_num_features(), hidden_size=config.ENCODER_HIDDEN_SIZE, time_step=time_step)\n",
    "        self.decoder = AttnDecoder(code_hidden_size=config.ENCODER_HIDDEN_SIZE, hidden_size=config.DECODER_HIDDEN_SIZE, time_step=time_step)\n",
    "        if torch.cuda.is_available():\n",
    "            self.encoder = self.encoder.cuda()\n",
    "            self.decoder = self.decoder.cuda()\n",
    "        self.encoder_optim = optim.Adam(self.encoder.parameters(), lr)\n",
    "        self.decoder_optim = optim.Adam(self.decoder.parameters(), lr)\n",
    "        self.loss_func = nn.MSELoss()\n",
    "        self.train_size, self.test_size = self.dataset.get_size()\n",
    "\n",
    "    def train_minibatch(self, num_epochs, batch_size, interval):\n",
    "        x_train, y_train, y_seq_train = self.dataset.get_train_set()\n",
    "        for epoch in range(num_epochs):\n",
    "            i = 0\n",
    "            loss_sum = 0\n",
    "            while (i < self.train_size):\n",
    "                self.encoder_optim.zero_grad()\n",
    "                self.decoder_optim.zero_grad()\n",
    "                batch_end = i + batch_size\n",
    "                if (batch_end >= self.train_size):\n",
    "                    batch_end = self.train_size\n",
    "                var_x = self.to_variable(x_train[i: batch_end])\n",
    "                var_y = self.to_variable(y_train[i: batch_end])\n",
    "                var_y_seq = self.to_variable(y_seq_train[i: batch_end])\n",
    "                if var_x.dim() == 2:\n",
    "                    var_x = var_x.unsqueeze(2)\n",
    "                code = self.encoder(var_x)\n",
    "                y_res = self.decoder(code, var_y_seq)\n",
    "                loss = self.loss_func(y_res, var_y)\n",
    "                loss.backward()\n",
    "                self.encoder_optim.step()\n",
    "                self.decoder_optim.step()\n",
    "                # print('[%d], loss is %f' % (epoch, 10000 * loss.data[0]))\n",
    "                loss_sum += loss.data[0]\n",
    "                i = batch_end\n",
    "            print('epoch [%d] finished, the average loss is %f' % (epoch, loss_sum))\n",
    "            if (epoch + 1) % (interval) == 0 or epoch + 1 == num_epochs:\n",
    "                torch.save(self.encoder.state_dict(), 'models/encoder' + str(epoch + 1) + '-norm' + '.model')\n",
    "                torch.save(self.decoder.state_dict(), 'models/decoder' + str(epoch + 1) + '-norm' + '.model')\n",
    "\n",
    "    def test(self, num_epochs, batch_size):\n",
    "        x_train, y_train, y_seq_train = self.dataset.get_train_set()\n",
    "        x_test, y_test, y_seq_test = self.dataset.get_test_set()\n",
    "        y_pred_train = self.predict(x_train, y_train, y_seq_train, batch_size)\n",
    "        y_pred_test = self.predict(x_test, y_test, y_seq_test, batch_size)\n",
    "        plt.figure(figsize=(8,6), dpi=100)\n",
    "        plt.plot(range(2000, self.train_size), y_train[2000:], label='train truth', color='black')\n",
    "        plt.plot(range(self.train_size, self.train_size + self.test_size), y_test, label='ground truth', color='black')\n",
    "        plt.plot(range(2000, self.train_size), y_pred_train[2000:], label='predicted train', color='red')\n",
    "        plt.plot(range(self.train_size, self.train_size + self.test_size), y_pred_test, label='predicted test', color='blue')\n",
    "        plt.xlabel('Days')\n",
    "        plt.ylabel('Stock price of AAPL.US(USD)')\n",
    "        plt.savefig('results/res-' + str(num_epochs) +'-' + str(batch_size) + '.png')\n",
    "\n",
    "\n",
    "    def predict(self, x, y, y_seq, batch_size):\n",
    "        y_pred = np.zeros(x.shape[0])\n",
    "        i = 0\n",
    "        while (i < x.shape[0]):\n",
    "            batch_end = i + batch_size\n",
    "            if batch_end > x.shape[0]:\n",
    "                batch_end = x.shape[0]\n",
    "            var_x_input = self.to_variable(x[i: batch_end])\n",
    "            var_y_input = self.to_variable(y_seq[i: batch_end])\n",
    "            if var_x_input.dim() == 2:\n",
    "                var_x_input = var_x_input.unsqueeze(2)\n",
    "            code = self.encoder(var_x_input)\n",
    "            y_res = self.decoder(code, var_y_input)\n",
    "            for j in range(i, batch_end):\n",
    "                y_pred[j] = y_res[j - i, -1]\n",
    "            i = batch_end\n",
    "        return y_pred\n",
    "\n",
    "\n",
    "    def load_model(self, encoder_path, decoder_path):\n",
    "        self.encoder.load_state_dict(torch.load(encoder_path, map_location=lambda storage, loc: storage))\n",
    "        self.decoder.load_state_dict(torch.load(decoder_path, map_location=lambda storage, loc: storage))\n",
    "\n",
    "    def to_variable(self, x):\n",
    "        if torch.cuda.is_available():\n",
    "            return Variable(torch.from_numpy(x).float()).cuda()\n",
    "        else:\n",
    "            return Variable(torch.from_numpy(x).float())\n",
    "\n",
    "\n",
    "\n",
    "def getArgParser():\n",
    "    parser = argparse.ArgumentParser(description='Train the dual-stage attention-based model on stock')\n",
    "    parser.add_argument(\n",
    "        '-e', '--epoch', type=int, default=1,\n",
    "        help='the number of epochs')\n",
    "    parser.add_argument(\n",
    "        '-b', '--batch', type=int, default=1,\n",
    "        help='the mini-batch size')\n",
    "    parser.add_argument(\n",
    "        '-s', '--split', type=float, default=0.8,\n",
    "        help='the split ratio of validation set')\n",
    "    parser.add_argument(\n",
    "        '-i', '--interval', type=int, default=1,\n",
    "        help='save models every interval epoch')\n",
    "    parser.add_argument(\n",
    "        '-l', '--lrate', type=float, default=0.01,\n",
    "        help='learning rate')\n",
    "    parser.add_argument(\n",
    "        '-t', '--test', action='store_true',\n",
    "        help='train or test')\n",
    "    parser.add_argument(\n",
    "        '-m', '--model', type=str, default='',\n",
    "        help='the model name(after encoder/decoder)'\n",
    "    )\n",
    "    return parser\n",
    "\n",
    "\n",
    "if __name__ == '__main__':\n",
    "    args = getArgParser().parse_args()\n",
    "    num_epochs = args.epoch\n",
    "    batch_size = args.batch\n",
    "    split = args.split\n",
    "    interval = args.interval\n",
    "    lr = args.lrate\n",
    "    test = args.test\n",
    "    mname = args.model\n",
    "    trainer = Trainer(config.DRIVING, config.TARGET, 10, split, lr)\n",
    "    if not test:\n",
    "        trainer.train_minibatch(num_epochs, batch_size, interval)\n",
    "    else:\n",
    "        encoder_name = 'models/encoder' + mname + '.model'\n",
    "        decoder_name = 'models/decoder' + mname + '.model'\n",
    "        trainer.load_model(encoder_name, decoder_name)\n",
    "        trainer.test(mname, batch_size)"
   ]
  },
  {
   "cell_type": "code",
   "execution_count": 91,
   "metadata": {
    "ExecuteTime": {
     "end_time": "2019-03-27T11:06:45.835815Z",
     "start_time": "2019-03-27T11:06:45.830801Z"
    }
   },
   "outputs": [
    {
     "ename": "SyntaxError",
     "evalue": "invalid syntax (<ipython-input-91-56bc3e5202ee>, line 1)",
     "output_type": "error",
     "traceback": [
      "\u001b[1;36m  File \u001b[1;32m\"<ipython-input-91-56bc3e5202ee>\"\u001b[1;36m, line \u001b[1;32m1\u001b[0m\n\u001b[1;33m    trainer -e 5 -b 4 -i 1\u001b[0m\n\u001b[1;37m               ^\u001b[0m\n\u001b[1;31mSyntaxError\u001b[0m\u001b[1;31m:\u001b[0m invalid syntax\n"
     ]
    }
   ],
   "source": [
    "Python3 trainer -e 5 -b 4 -i 1"
   ]
  },
  {
   "cell_type": "code",
   "execution_count": null,
   "metadata": {},
   "outputs": [],
   "source": []
  },
  {
   "cell_type": "code",
   "execution_count": null,
   "metadata": {},
   "outputs": [],
   "source": []
  },
  {
   "cell_type": "code",
   "execution_count": 62,
   "metadata": {
    "ExecuteTime": {
     "end_time": "2019-03-27T10:39:19.160710Z",
     "start_time": "2019-03-27T10:39:19.141662Z"
    }
   },
   "outputs": [
    {
     "data": {
      "text/html": [
       "<div>\n",
       "<style scoped>\n",
       "    .dataframe tbody tr th:only-of-type {\n",
       "        vertical-align: middle;\n",
       "    }\n",
       "\n",
       "    .dataframe tbody tr th {\n",
       "        vertical-align: top;\n",
       "    }\n",
       "\n",
       "    .dataframe thead th {\n",
       "        text-align: right;\n",
       "    }\n",
       "</style>\n",
       "<table border=\"1\" class=\"dataframe\">\n",
       "  <thead>\n",
       "    <tr style=\"text-align: right;\">\n",
       "      <th></th>\n",
       "      <th>Open</th>\n",
       "      <th>High</th>\n",
       "      <th>Low</th>\n",
       "      <th>Close</th>\n",
       "      <th>Adj Close</th>\n",
       "      <th>Volume</th>\n",
       "    </tr>\n",
       "    <tr>\n",
       "      <th>Date</th>\n",
       "      <th></th>\n",
       "      <th></th>\n",
       "      <th></th>\n",
       "      <th></th>\n",
       "      <th></th>\n",
       "      <th></th>\n",
       "    </tr>\n",
       "  </thead>\n",
       "  <tbody>\n",
       "    <tr>\n",
       "      <th>2002-12-31</th>\n",
       "      <td>18.879999</td>\n",
       "      <td>18.879999</td>\n",
       "      <td>18.879999</td>\n",
       "      <td>18.879999</td>\n",
       "      <td>13.962929</td>\n",
       "      <td>0</td>\n",
       "    </tr>\n",
       "    <tr>\n",
       "      <th>2003-01-01</th>\n",
       "      <td>18.879999</td>\n",
       "      <td>18.879999</td>\n",
       "      <td>18.879999</td>\n",
       "      <td>18.879999</td>\n",
       "      <td>13.962929</td>\n",
       "      <td>0</td>\n",
       "    </tr>\n",
       "    <tr>\n",
       "      <th>2003-01-02</th>\n",
       "      <td>18.725000</td>\n",
       "      <td>20.334999</td>\n",
       "      <td>18.530001</td>\n",
       "      <td>20.200001</td>\n",
       "      <td>14.939153</td>\n",
       "      <td>4668528</td>\n",
       "    </tr>\n",
       "    <tr>\n",
       "      <th>2003-01-03</th>\n",
       "      <td>20.424999</td>\n",
       "      <td>21.500000</td>\n",
       "      <td>20.262501</td>\n",
       "      <td>21.522499</td>\n",
       "      <td>15.917223</td>\n",
       "      <td>7698848</td>\n",
       "    </tr>\n",
       "    <tr>\n",
       "      <th>2003-01-06</th>\n",
       "      <td>21.475000</td>\n",
       "      <td>22.222500</td>\n",
       "      <td>21.010000</td>\n",
       "      <td>21.947500</td>\n",
       "      <td>16.231535</td>\n",
       "      <td>6265092</td>\n",
       "    </tr>\n",
       "  </tbody>\n",
       "</table>\n",
       "</div>"
      ],
      "text/plain": [
       "                 Open       High        Low      Close  Adj Close   Volume\n",
       "Date                                                                      \n",
       "2002-12-31  18.879999  18.879999  18.879999  18.879999  13.962929        0\n",
       "2003-01-01  18.879999  18.879999  18.879999  18.879999  13.962929        0\n",
       "2003-01-02  18.725000  20.334999  18.530001  20.200001  14.939153  4668528\n",
       "2003-01-03  20.424999  21.500000  20.262501  21.522499  15.917223  7698848\n",
       "2003-01-06  21.475000  22.222500  21.010000  21.947500  16.231535  6265092"
      ]
     },
     "execution_count": 62,
     "metadata": {},
     "output_type": "execute_result"
    }
   ],
   "source": [
    "df = data_sap\n",
    "df.loc['2018-07-25', 'Close'] = 2111.111\n",
    "df.fillna(0, inplace=True)\n",
    "df.head()"
   ]
  },
  {
   "cell_type": "code",
   "execution_count": null,
   "metadata": {},
   "outputs": [],
   "source": []
  },
  {
   "cell_type": "code",
   "execution_count": null,
   "metadata": {},
   "outputs": [],
   "source": []
  },
  {
   "cell_type": "code",
   "execution_count": 59,
   "metadata": {
    "ExecuteTime": {
     "end_time": "2019-03-27T10:33:39.412643Z",
     "start_time": "2019-03-27T10:33:39.407121Z"
    }
   },
   "outputs": [],
   "source": [
    "stock_frame1 = data_sap\n",
    "stock_frame2 = data_oracle"
   ]
  },
  {
   "cell_type": "code",
   "execution_count": 61,
   "metadata": {
    "ExecuteTime": {
     "end_time": "2019-03-27T10:34:08.251187Z",
     "start_time": "2019-03-27T10:34:08.224051Z"
    },
    "scrolled": true
   },
   "outputs": [
    {
     "data": {
      "text/html": [
       "<div>\n",
       "<style scoped>\n",
       "    .dataframe tbody tr th:only-of-type {\n",
       "        vertical-align: middle;\n",
       "    }\n",
       "\n",
       "    .dataframe tbody tr th {\n",
       "        vertical-align: top;\n",
       "    }\n",
       "\n",
       "    .dataframe thead th {\n",
       "        text-align: right;\n",
       "    }\n",
       "</style>\n",
       "<table border=\"1\" class=\"dataframe\">\n",
       "  <thead>\n",
       "    <tr style=\"text-align: right;\">\n",
       "      <th></th>\n",
       "      <th>Open</th>\n",
       "      <th>High</th>\n",
       "      <th>Low</th>\n",
       "      <th>Close</th>\n",
       "      <th>Adj Close</th>\n",
       "      <th>Volume</th>\n",
       "    </tr>\n",
       "    <tr>\n",
       "      <th>Date</th>\n",
       "      <th></th>\n",
       "      <th></th>\n",
       "      <th></th>\n",
       "      <th></th>\n",
       "      <th></th>\n",
       "      <th></th>\n",
       "    </tr>\n",
       "  </thead>\n",
       "  <tbody>\n",
       "    <tr>\n",
       "      <th>2002-12-31</th>\n",
       "      <td>10.880000</td>\n",
       "      <td>10.970000</td>\n",
       "      <td>10.780000</td>\n",
       "      <td>10.800000</td>\n",
       "      <td>9.568610</td>\n",
       "      <td>26155500</td>\n",
       "    </tr>\n",
       "    <tr>\n",
       "      <th>2003-01-02</th>\n",
       "      <td>10.940000</td>\n",
       "      <td>11.250000</td>\n",
       "      <td>10.800000</td>\n",
       "      <td>11.210000</td>\n",
       "      <td>9.931864</td>\n",
       "      <td>32064900</td>\n",
       "    </tr>\n",
       "    <tr>\n",
       "      <th>2003-01-03</th>\n",
       "      <td>11.190000</td>\n",
       "      <td>11.620000</td>\n",
       "      <td>11.120000</td>\n",
       "      <td>11.560000</td>\n",
       "      <td>10.241960</td>\n",
       "      <td>30879500</td>\n",
       "    </tr>\n",
       "    <tr>\n",
       "      <th>2003-01-06</th>\n",
       "      <td>11.540000</td>\n",
       "      <td>12.110000</td>\n",
       "      <td>11.540000</td>\n",
       "      <td>11.960000</td>\n",
       "      <td>10.596348</td>\n",
       "      <td>45324400</td>\n",
       "    </tr>\n",
       "    <tr>\n",
       "      <th>2003-01-07</th>\n",
       "      <td>11.890000</td>\n",
       "      <td>12.800000</td>\n",
       "      <td>11.760000</td>\n",
       "      <td>12.690000</td>\n",
       "      <td>11.243116</td>\n",
       "      <td>72764800</td>\n",
       "    </tr>\n",
       "    <tr>\n",
       "      <th>2003-01-08</th>\n",
       "      <td>12.570000</td>\n",
       "      <td>12.650000</td>\n",
       "      <td>12.070000</td>\n",
       "      <td>12.120000</td>\n",
       "      <td>10.738107</td>\n",
       "      <td>53623200</td>\n",
       "    </tr>\n",
       "    <tr>\n",
       "      <th>2003-01-09</th>\n",
       "      <td>12.460000</td>\n",
       "      <td>13.180000</td>\n",
       "      <td>12.400000</td>\n",
       "      <td>13.010000</td>\n",
       "      <td>11.526632</td>\n",
       "      <td>71178800</td>\n",
       "    </tr>\n",
       "    <tr>\n",
       "      <th>2003-01-10</th>\n",
       "      <td>12.660000</td>\n",
       "      <td>13.250000</td>\n",
       "      <td>12.490000</td>\n",
       "      <td>13.070000</td>\n",
       "      <td>11.579790</td>\n",
       "      <td>52033600</td>\n",
       "    </tr>\n",
       "    <tr>\n",
       "      <th>2003-01-13</th>\n",
       "      <td>13.300000</td>\n",
       "      <td>13.360000</td>\n",
       "      <td>12.830000</td>\n",
       "      <td>12.930000</td>\n",
       "      <td>11.455753</td>\n",
       "      <td>40588200</td>\n",
       "    </tr>\n",
       "    <tr>\n",
       "      <th>2003-01-14</th>\n",
       "      <td>12.880000</td>\n",
       "      <td>13.200000</td>\n",
       "      <td>12.800000</td>\n",
       "      <td>13.110000</td>\n",
       "      <td>11.615229</td>\n",
       "      <td>39310400</td>\n",
       "    </tr>\n",
       "    <tr>\n",
       "      <th>2003-01-15</th>\n",
       "      <td>13.150000</td>\n",
       "      <td>13.240000</td>\n",
       "      <td>12.460000</td>\n",
       "      <td>12.530000</td>\n",
       "      <td>11.101357</td>\n",
       "      <td>41972100</td>\n",
       "    </tr>\n",
       "    <tr>\n",
       "      <th>2003-01-16</th>\n",
       "      <td>12.510000</td>\n",
       "      <td>12.800000</td>\n",
       "      <td>12.100000</td>\n",
       "      <td>12.170000</td>\n",
       "      <td>10.782408</td>\n",
       "      <td>50428400</td>\n",
       "    </tr>\n",
       "    <tr>\n",
       "      <th>2003-01-17</th>\n",
       "      <td>11.680000</td>\n",
       "      <td>11.740000</td>\n",
       "      <td>11.420000</td>\n",
       "      <td>11.440000</td>\n",
       "      <td>10.135636</td>\n",
       "      <td>55319200</td>\n",
       "    </tr>\n",
       "    <tr>\n",
       "      <th>2003-01-21</th>\n",
       "      <td>11.590000</td>\n",
       "      <td>11.920000</td>\n",
       "      <td>11.470000</td>\n",
       "      <td>11.570000</td>\n",
       "      <td>10.250815</td>\n",
       "      <td>36345400</td>\n",
       "    </tr>\n",
       "    <tr>\n",
       "      <th>2003-01-22</th>\n",
       "      <td>11.590000</td>\n",
       "      <td>12.140000</td>\n",
       "      <td>11.450000</td>\n",
       "      <td>11.620000</td>\n",
       "      <td>10.295114</td>\n",
       "      <td>45273300</td>\n",
       "    </tr>\n",
       "    <tr>\n",
       "      <th>2003-01-23</th>\n",
       "      <td>12.050000</td>\n",
       "      <td>12.590000</td>\n",
       "      <td>11.890000</td>\n",
       "      <td>12.460000</td>\n",
       "      <td>11.039342</td>\n",
       "      <td>46467100</td>\n",
       "    </tr>\n",
       "    <tr>\n",
       "      <th>2003-01-24</th>\n",
       "      <td>12.410000</td>\n",
       "      <td>12.440000</td>\n",
       "      <td>11.670000</td>\n",
       "      <td>11.770000</td>\n",
       "      <td>10.428010</td>\n",
       "      <td>45555000</td>\n",
       "    </tr>\n",
       "    <tr>\n",
       "      <th>2003-01-27</th>\n",
       "      <td>11.800000</td>\n",
       "      <td>12.060000</td>\n",
       "      <td>11.600000</td>\n",
       "      <td>11.930000</td>\n",
       "      <td>10.569770</td>\n",
       "      <td>44095200</td>\n",
       "    </tr>\n",
       "    <tr>\n",
       "      <th>2003-01-28</th>\n",
       "      <td>12.150000</td>\n",
       "      <td>12.160000</td>\n",
       "      <td>11.710000</td>\n",
       "      <td>11.970000</td>\n",
       "      <td>10.605210</td>\n",
       "      <td>36313900</td>\n",
       "    </tr>\n",
       "    <tr>\n",
       "      <th>2003-01-29</th>\n",
       "      <td>11.780000</td>\n",
       "      <td>12.190000</td>\n",
       "      <td>11.550000</td>\n",
       "      <td>12.020000</td>\n",
       "      <td>10.649510</td>\n",
       "      <td>36287500</td>\n",
       "    </tr>\n",
       "    <tr>\n",
       "      <th>2003-01-30</th>\n",
       "      <td>12.080000</td>\n",
       "      <td>12.480000</td>\n",
       "      <td>11.690000</td>\n",
       "      <td>11.750000</td>\n",
       "      <td>10.410296</td>\n",
       "      <td>38272500</td>\n",
       "    </tr>\n",
       "    <tr>\n",
       "      <th>2003-01-31</th>\n",
       "      <td>11.590000</td>\n",
       "      <td>12.180000</td>\n",
       "      <td>11.500000</td>\n",
       "      <td>12.030000</td>\n",
       "      <td>10.658368</td>\n",
       "      <td>48082000</td>\n",
       "    </tr>\n",
       "    <tr>\n",
       "      <th>2003-02-03</th>\n",
       "      <td>12.010000</td>\n",
       "      <td>12.140000</td>\n",
       "      <td>11.890000</td>\n",
       "      <td>12.010000</td>\n",
       "      <td>10.640648</td>\n",
       "      <td>30451300</td>\n",
       "    </tr>\n",
       "    <tr>\n",
       "      <th>2003-02-04</th>\n",
       "      <td>11.850000</td>\n",
       "      <td>12.130000</td>\n",
       "      <td>11.520000</td>\n",
       "      <td>11.730000</td>\n",
       "      <td>10.392572</td>\n",
       "      <td>47845200</td>\n",
       "    </tr>\n",
       "    <tr>\n",
       "      <th>2003-02-05</th>\n",
       "      <td>11.880000</td>\n",
       "      <td>12.040000</td>\n",
       "      <td>11.500000</td>\n",
       "      <td>11.520000</td>\n",
       "      <td>10.206518</td>\n",
       "      <td>41316900</td>\n",
       "    </tr>\n",
       "    <tr>\n",
       "      <th>2003-02-06</th>\n",
       "      <td>11.510000</td>\n",
       "      <td>11.720000</td>\n",
       "      <td>11.330000</td>\n",
       "      <td>11.530000</td>\n",
       "      <td>10.215377</td>\n",
       "      <td>39066500</td>\n",
       "    </tr>\n",
       "    <tr>\n",
       "      <th>2003-02-07</th>\n",
       "      <td>11.740000</td>\n",
       "      <td>11.900000</td>\n",
       "      <td>11.260000</td>\n",
       "      <td>11.340000</td>\n",
       "      <td>10.047041</td>\n",
       "      <td>43943700</td>\n",
       "    </tr>\n",
       "    <tr>\n",
       "      <th>2003-02-10</th>\n",
       "      <td>11.410000</td>\n",
       "      <td>11.800000</td>\n",
       "      <td>11.380000</td>\n",
       "      <td>11.750000</td>\n",
       "      <td>10.410296</td>\n",
       "      <td>33763500</td>\n",
       "    </tr>\n",
       "    <tr>\n",
       "      <th>2003-02-11</th>\n",
       "      <td>11.840000</td>\n",
       "      <td>12.140000</td>\n",
       "      <td>11.720000</td>\n",
       "      <td>11.910000</td>\n",
       "      <td>10.552052</td>\n",
       "      <td>46126300</td>\n",
       "    </tr>\n",
       "    <tr>\n",
       "      <th>2003-02-12</th>\n",
       "      <td>11.820000</td>\n",
       "      <td>11.950000</td>\n",
       "      <td>11.490000</td>\n",
       "      <td>11.500000</td>\n",
       "      <td>10.188798</td>\n",
       "      <td>39650300</td>\n",
       "    </tr>\n",
       "    <tr>\n",
       "      <th>...</th>\n",
       "      <td>...</td>\n",
       "      <td>...</td>\n",
       "      <td>...</td>\n",
       "      <td>...</td>\n",
       "      <td>...</td>\n",
       "      <td>...</td>\n",
       "    </tr>\n",
       "    <tr>\n",
       "      <th>2019-02-12</th>\n",
       "      <td>51.459999</td>\n",
       "      <td>51.549999</td>\n",
       "      <td>51.189999</td>\n",
       "      <td>51.220001</td>\n",
       "      <td>51.220001</td>\n",
       "      <td>14188500</td>\n",
       "    </tr>\n",
       "    <tr>\n",
       "      <th>2019-02-13</th>\n",
       "      <td>51.250000</td>\n",
       "      <td>51.549999</td>\n",
       "      <td>50.950001</td>\n",
       "      <td>51.419998</td>\n",
       "      <td>51.419998</td>\n",
       "      <td>11342600</td>\n",
       "    </tr>\n",
       "    <tr>\n",
       "      <th>2019-02-14</th>\n",
       "      <td>51.240002</td>\n",
       "      <td>51.750000</td>\n",
       "      <td>51.090000</td>\n",
       "      <td>51.480000</td>\n",
       "      <td>51.480000</td>\n",
       "      <td>11155300</td>\n",
       "    </tr>\n",
       "    <tr>\n",
       "      <th>2019-02-15</th>\n",
       "      <td>51.130001</td>\n",
       "      <td>51.720001</td>\n",
       "      <td>51.070000</td>\n",
       "      <td>51.720001</td>\n",
       "      <td>51.720001</td>\n",
       "      <td>13822200</td>\n",
       "    </tr>\n",
       "    <tr>\n",
       "      <th>2019-02-19</th>\n",
       "      <td>51.480000</td>\n",
       "      <td>52.180000</td>\n",
       "      <td>51.240002</td>\n",
       "      <td>52.020000</td>\n",
       "      <td>52.020000</td>\n",
       "      <td>12357500</td>\n",
       "    </tr>\n",
       "    <tr>\n",
       "      <th>2019-02-20</th>\n",
       "      <td>52.000000</td>\n",
       "      <td>52.209999</td>\n",
       "      <td>51.500000</td>\n",
       "      <td>51.770000</td>\n",
       "      <td>51.770000</td>\n",
       "      <td>13440900</td>\n",
       "    </tr>\n",
       "    <tr>\n",
       "      <th>2019-02-21</th>\n",
       "      <td>51.630001</td>\n",
       "      <td>52.349998</td>\n",
       "      <td>51.509998</td>\n",
       "      <td>52.110001</td>\n",
       "      <td>52.110001</td>\n",
       "      <td>14759500</td>\n",
       "    </tr>\n",
       "    <tr>\n",
       "      <th>2019-02-22</th>\n",
       "      <td>52.389999</td>\n",
       "      <td>52.599998</td>\n",
       "      <td>52.200001</td>\n",
       "      <td>52.480000</td>\n",
       "      <td>52.480000</td>\n",
       "      <td>11689700</td>\n",
       "    </tr>\n",
       "    <tr>\n",
       "      <th>2019-02-25</th>\n",
       "      <td>52.750000</td>\n",
       "      <td>53.029999</td>\n",
       "      <td>52.459999</td>\n",
       "      <td>52.560001</td>\n",
       "      <td>52.560001</td>\n",
       "      <td>14722200</td>\n",
       "    </tr>\n",
       "    <tr>\n",
       "      <th>2019-02-26</th>\n",
       "      <td>52.459999</td>\n",
       "      <td>52.880001</td>\n",
       "      <td>52.240002</td>\n",
       "      <td>52.599998</td>\n",
       "      <td>52.599998</td>\n",
       "      <td>12041300</td>\n",
       "    </tr>\n",
       "    <tr>\n",
       "      <th>2019-02-27</th>\n",
       "      <td>52.520000</td>\n",
       "      <td>52.639999</td>\n",
       "      <td>52.259998</td>\n",
       "      <td>52.380001</td>\n",
       "      <td>52.380001</td>\n",
       "      <td>10674200</td>\n",
       "    </tr>\n",
       "    <tr>\n",
       "      <th>2019-02-28</th>\n",
       "      <td>52.200001</td>\n",
       "      <td>52.509998</td>\n",
       "      <td>52.049999</td>\n",
       "      <td>52.130001</td>\n",
       "      <td>52.130001</td>\n",
       "      <td>31856900</td>\n",
       "    </tr>\n",
       "    <tr>\n",
       "      <th>2019-03-01</th>\n",
       "      <td>52.500000</td>\n",
       "      <td>52.730000</td>\n",
       "      <td>52.369999</td>\n",
       "      <td>52.509998</td>\n",
       "      <td>52.509998</td>\n",
       "      <td>15757700</td>\n",
       "    </tr>\n",
       "    <tr>\n",
       "      <th>2019-03-04</th>\n",
       "      <td>52.669998</td>\n",
       "      <td>52.849998</td>\n",
       "      <td>51.570000</td>\n",
       "      <td>52.040001</td>\n",
       "      <td>52.040001</td>\n",
       "      <td>14850100</td>\n",
       "    </tr>\n",
       "    <tr>\n",
       "      <th>2019-03-05</th>\n",
       "      <td>52.040001</td>\n",
       "      <td>52.590000</td>\n",
       "      <td>52.020000</td>\n",
       "      <td>52.360001</td>\n",
       "      <td>52.360001</td>\n",
       "      <td>16291900</td>\n",
       "    </tr>\n",
       "    <tr>\n",
       "      <th>2019-03-06</th>\n",
       "      <td>52.310001</td>\n",
       "      <td>52.750000</td>\n",
       "      <td>52.130001</td>\n",
       "      <td>52.349998</td>\n",
       "      <td>52.349998</td>\n",
       "      <td>12389300</td>\n",
       "    </tr>\n",
       "    <tr>\n",
       "      <th>2019-03-07</th>\n",
       "      <td>52.200001</td>\n",
       "      <td>53.130001</td>\n",
       "      <td>52.189999</td>\n",
       "      <td>52.580002</td>\n",
       "      <td>52.580002</td>\n",
       "      <td>16624100</td>\n",
       "    </tr>\n",
       "    <tr>\n",
       "      <th>2019-03-08</th>\n",
       "      <td>52.349998</td>\n",
       "      <td>52.779999</td>\n",
       "      <td>52.130001</td>\n",
       "      <td>52.770000</td>\n",
       "      <td>52.770000</td>\n",
       "      <td>15071100</td>\n",
       "    </tr>\n",
       "    <tr>\n",
       "      <th>2019-03-11</th>\n",
       "      <td>51.939999</td>\n",
       "      <td>53.180000</td>\n",
       "      <td>51.910000</td>\n",
       "      <td>52.660000</td>\n",
       "      <td>52.660000</td>\n",
       "      <td>20027700</td>\n",
       "    </tr>\n",
       "    <tr>\n",
       "      <th>2019-03-12</th>\n",
       "      <td>52.669998</td>\n",
       "      <td>53.290001</td>\n",
       "      <td>52.580002</td>\n",
       "      <td>52.799999</td>\n",
       "      <td>52.799999</td>\n",
       "      <td>18048500</td>\n",
       "    </tr>\n",
       "    <tr>\n",
       "      <th>2019-03-13</th>\n",
       "      <td>53.060001</td>\n",
       "      <td>53.470001</td>\n",
       "      <td>52.740002</td>\n",
       "      <td>53.060001</td>\n",
       "      <td>53.060001</td>\n",
       "      <td>19490800</td>\n",
       "    </tr>\n",
       "    <tr>\n",
       "      <th>2019-03-14</th>\n",
       "      <td>52.980000</td>\n",
       "      <td>53.400002</td>\n",
       "      <td>52.849998</td>\n",
       "      <td>53.049999</td>\n",
       "      <td>53.049999</td>\n",
       "      <td>24000300</td>\n",
       "    </tr>\n",
       "    <tr>\n",
       "      <th>2019-03-15</th>\n",
       "      <td>51.400002</td>\n",
       "      <td>53.389999</td>\n",
       "      <td>51.000000</td>\n",
       "      <td>52.939999</td>\n",
       "      <td>52.939999</td>\n",
       "      <td>43340200</td>\n",
       "    </tr>\n",
       "    <tr>\n",
       "      <th>2019-03-18</th>\n",
       "      <td>52.869999</td>\n",
       "      <td>53.959999</td>\n",
       "      <td>52.779999</td>\n",
       "      <td>53.459999</td>\n",
       "      <td>53.459999</td>\n",
       "      <td>21953600</td>\n",
       "    </tr>\n",
       "    <tr>\n",
       "      <th>2019-03-19</th>\n",
       "      <td>53.799999</td>\n",
       "      <td>54.380001</td>\n",
       "      <td>53.750000</td>\n",
       "      <td>54.040001</td>\n",
       "      <td>54.040001</td>\n",
       "      <td>19214000</td>\n",
       "    </tr>\n",
       "    <tr>\n",
       "      <th>2019-03-20</th>\n",
       "      <td>53.889999</td>\n",
       "      <td>54.189999</td>\n",
       "      <td>52.509998</td>\n",
       "      <td>52.639999</td>\n",
       "      <td>52.639999</td>\n",
       "      <td>24111600</td>\n",
       "    </tr>\n",
       "    <tr>\n",
       "      <th>2019-03-21</th>\n",
       "      <td>52.630001</td>\n",
       "      <td>54.049999</td>\n",
       "      <td>52.349998</td>\n",
       "      <td>54.040001</td>\n",
       "      <td>54.040001</td>\n",
       "      <td>16686300</td>\n",
       "    </tr>\n",
       "    <tr>\n",
       "      <th>2019-03-22</th>\n",
       "      <td>53.619999</td>\n",
       "      <td>53.880001</td>\n",
       "      <td>52.740002</td>\n",
       "      <td>52.770000</td>\n",
       "      <td>52.770000</td>\n",
       "      <td>16201500</td>\n",
       "    </tr>\n",
       "    <tr>\n",
       "      <th>2019-03-25</th>\n",
       "      <td>52.560001</td>\n",
       "      <td>52.939999</td>\n",
       "      <td>52.230000</td>\n",
       "      <td>52.740002</td>\n",
       "      <td>52.740002</td>\n",
       "      <td>11755900</td>\n",
       "    </tr>\n",
       "    <tr>\n",
       "      <th>2019-03-26</th>\n",
       "      <td>53.290001</td>\n",
       "      <td>53.540001</td>\n",
       "      <td>53.060001</td>\n",
       "      <td>53.279999</td>\n",
       "      <td>53.279999</td>\n",
       "      <td>11502100</td>\n",
       "    </tr>\n",
       "  </tbody>\n",
       "</table>\n",
       "<p>4086 rows × 6 columns</p>\n",
       "</div>"
      ],
      "text/plain": [
       "                 Open       High        Low      Close  Adj Close    Volume\n",
       "Date                                                                       \n",
       "2002-12-31  10.880000  10.970000  10.780000  10.800000   9.568610  26155500\n",
       "2003-01-02  10.940000  11.250000  10.800000  11.210000   9.931864  32064900\n",
       "2003-01-03  11.190000  11.620000  11.120000  11.560000  10.241960  30879500\n",
       "2003-01-06  11.540000  12.110000  11.540000  11.960000  10.596348  45324400\n",
       "2003-01-07  11.890000  12.800000  11.760000  12.690000  11.243116  72764800\n",
       "2003-01-08  12.570000  12.650000  12.070000  12.120000  10.738107  53623200\n",
       "2003-01-09  12.460000  13.180000  12.400000  13.010000  11.526632  71178800\n",
       "2003-01-10  12.660000  13.250000  12.490000  13.070000  11.579790  52033600\n",
       "2003-01-13  13.300000  13.360000  12.830000  12.930000  11.455753  40588200\n",
       "2003-01-14  12.880000  13.200000  12.800000  13.110000  11.615229  39310400\n",
       "2003-01-15  13.150000  13.240000  12.460000  12.530000  11.101357  41972100\n",
       "2003-01-16  12.510000  12.800000  12.100000  12.170000  10.782408  50428400\n",
       "2003-01-17  11.680000  11.740000  11.420000  11.440000  10.135636  55319200\n",
       "2003-01-21  11.590000  11.920000  11.470000  11.570000  10.250815  36345400\n",
       "2003-01-22  11.590000  12.140000  11.450000  11.620000  10.295114  45273300\n",
       "2003-01-23  12.050000  12.590000  11.890000  12.460000  11.039342  46467100\n",
       "2003-01-24  12.410000  12.440000  11.670000  11.770000  10.428010  45555000\n",
       "2003-01-27  11.800000  12.060000  11.600000  11.930000  10.569770  44095200\n",
       "2003-01-28  12.150000  12.160000  11.710000  11.970000  10.605210  36313900\n",
       "2003-01-29  11.780000  12.190000  11.550000  12.020000  10.649510  36287500\n",
       "2003-01-30  12.080000  12.480000  11.690000  11.750000  10.410296  38272500\n",
       "2003-01-31  11.590000  12.180000  11.500000  12.030000  10.658368  48082000\n",
       "2003-02-03  12.010000  12.140000  11.890000  12.010000  10.640648  30451300\n",
       "2003-02-04  11.850000  12.130000  11.520000  11.730000  10.392572  47845200\n",
       "2003-02-05  11.880000  12.040000  11.500000  11.520000  10.206518  41316900\n",
       "2003-02-06  11.510000  11.720000  11.330000  11.530000  10.215377  39066500\n",
       "2003-02-07  11.740000  11.900000  11.260000  11.340000  10.047041  43943700\n",
       "2003-02-10  11.410000  11.800000  11.380000  11.750000  10.410296  33763500\n",
       "2003-02-11  11.840000  12.140000  11.720000  11.910000  10.552052  46126300\n",
       "2003-02-12  11.820000  11.950000  11.490000  11.500000  10.188798  39650300\n",
       "...               ...        ...        ...        ...        ...       ...\n",
       "2019-02-12  51.459999  51.549999  51.189999  51.220001  51.220001  14188500\n",
       "2019-02-13  51.250000  51.549999  50.950001  51.419998  51.419998  11342600\n",
       "2019-02-14  51.240002  51.750000  51.090000  51.480000  51.480000  11155300\n",
       "2019-02-15  51.130001  51.720001  51.070000  51.720001  51.720001  13822200\n",
       "2019-02-19  51.480000  52.180000  51.240002  52.020000  52.020000  12357500\n",
       "2019-02-20  52.000000  52.209999  51.500000  51.770000  51.770000  13440900\n",
       "2019-02-21  51.630001  52.349998  51.509998  52.110001  52.110001  14759500\n",
       "2019-02-22  52.389999  52.599998  52.200001  52.480000  52.480000  11689700\n",
       "2019-02-25  52.750000  53.029999  52.459999  52.560001  52.560001  14722200\n",
       "2019-02-26  52.459999  52.880001  52.240002  52.599998  52.599998  12041300\n",
       "2019-02-27  52.520000  52.639999  52.259998  52.380001  52.380001  10674200\n",
       "2019-02-28  52.200001  52.509998  52.049999  52.130001  52.130001  31856900\n",
       "2019-03-01  52.500000  52.730000  52.369999  52.509998  52.509998  15757700\n",
       "2019-03-04  52.669998  52.849998  51.570000  52.040001  52.040001  14850100\n",
       "2019-03-05  52.040001  52.590000  52.020000  52.360001  52.360001  16291900\n",
       "2019-03-06  52.310001  52.750000  52.130001  52.349998  52.349998  12389300\n",
       "2019-03-07  52.200001  53.130001  52.189999  52.580002  52.580002  16624100\n",
       "2019-03-08  52.349998  52.779999  52.130001  52.770000  52.770000  15071100\n",
       "2019-03-11  51.939999  53.180000  51.910000  52.660000  52.660000  20027700\n",
       "2019-03-12  52.669998  53.290001  52.580002  52.799999  52.799999  18048500\n",
       "2019-03-13  53.060001  53.470001  52.740002  53.060001  53.060001  19490800\n",
       "2019-03-14  52.980000  53.400002  52.849998  53.049999  53.049999  24000300\n",
       "2019-03-15  51.400002  53.389999  51.000000  52.939999  52.939999  43340200\n",
       "2019-03-18  52.869999  53.959999  52.779999  53.459999  53.459999  21953600\n",
       "2019-03-19  53.799999  54.380001  53.750000  54.040001  54.040001  19214000\n",
       "2019-03-20  53.889999  54.189999  52.509998  52.639999  52.639999  24111600\n",
       "2019-03-21  52.630001  54.049999  52.349998  54.040001  54.040001  16686300\n",
       "2019-03-22  53.619999  53.880001  52.740002  52.770000  52.770000  16201500\n",
       "2019-03-25  52.560001  52.939999  52.230000  52.740002  52.740002  11755900\n",
       "2019-03-26  53.290001  53.540001  53.060001  53.279999  53.279999  11502100\n",
       "\n",
       "[4086 rows x 6 columns]"
      ]
     },
     "execution_count": 61,
     "metadata": {},
     "output_type": "execute_result"
    }
   ],
   "source": [
    "stock_frame2"
   ]
  },
  {
   "cell_type": "code",
   "execution_count": null,
   "metadata": {},
   "outputs": [],
   "source": []
  },
  {
   "cell_type": "code",
   "execution_count": null,
   "metadata": {},
   "outputs": [],
   "source": []
  },
  {
   "cell_type": "code",
   "execution_count": null,
   "metadata": {},
   "outputs": [],
   "source": []
  },
  {
   "cell_type": "code",
   "execution_count": null,
   "metadata": {},
   "outputs": [],
   "source": []
  },
  {
   "cell_type": "code",
   "execution_count": null,
   "metadata": {},
   "outputs": [],
   "source": []
  },
  {
   "cell_type": "code",
   "execution_count": null,
   "metadata": {},
   "outputs": [],
   "source": []
  },
  {
   "cell_type": "code",
   "execution_count": null,
   "metadata": {},
   "outputs": [],
   "source": []
  },
  {
   "cell_type": "code",
   "execution_count": null,
   "metadata": {},
   "outputs": [],
   "source": []
  },
  {
   "cell_type": "code",
   "execution_count": null,
   "metadata": {},
   "outputs": [],
   "source": []
  },
  {
   "cell_type": "code",
   "execution_count": null,
   "metadata": {},
   "outputs": [],
   "source": []
  },
  {
   "cell_type": "code",
   "execution_count": null,
   "metadata": {},
   "outputs": [],
   "source": []
  },
  {
   "cell_type": "code",
   "execution_count": null,
   "metadata": {},
   "outputs": [],
   "source": []
  },
  {
   "cell_type": "code",
   "execution_count": 47,
   "metadata": {
    "ExecuteTime": {
     "end_time": "2019-03-27T10:05:01.257672Z",
     "start_time": "2019-03-27T10:05:01.251560Z"
    }
   },
   "outputs": [],
   "source": [
    "#creating dataframe with date and the target variable\n",
    "new_data = data_sap['Adj Close']"
   ]
  },
  {
   "cell_type": "code",
   "execution_count": 48,
   "metadata": {
    "ExecuteTime": {
     "end_time": "2019-03-27T10:05:02.694542Z",
     "start_time": "2019-03-27T10:05:02.687523Z"
    }
   },
   "outputs": [
    {
     "data": {
      "text/plain": [
       "4144"
      ]
     },
     "execution_count": 48,
     "metadata": {},
     "output_type": "execute_result"
    }
   ],
   "source": [
    "len(new_data)"
   ]
  },
  {
   "cell_type": "code",
   "execution_count": 49,
   "metadata": {
    "ExecuteTime": {
     "end_time": "2019-03-27T10:05:05.098340Z",
     "start_time": "2019-03-27T10:05:05.093326Z"
    }
   },
   "outputs": [],
   "source": [
    "#splitting into train and validation\n",
    "train = new_data[:round(len(new_data)*0.8)]\n",
    "valid = new_data[round(len(new_data)*0.8):]"
   ]
  },
  {
   "cell_type": "code",
   "execution_count": 50,
   "metadata": {
    "ExecuteTime": {
     "end_time": "2019-03-27T10:05:07.297740Z",
     "start_time": "2019-03-27T10:05:07.291725Z"
    }
   },
   "outputs": [
    {
     "data": {
      "text/plain": [
       "((3315,), (829,))"
      ]
     },
     "execution_count": 50,
     "metadata": {},
     "output_type": "execute_result"
    }
   ],
   "source": [
    "train.shape, valid.shape"
   ]
  }
 ],
 "metadata": {
  "hide_input": false,
  "kernelspec": {
   "display_name": "Python 3",
   "language": "python",
   "name": "python3"
  },
  "language_info": {
   "codemirror_mode": {
    "name": "ipython",
    "version": 3
   },
   "file_extension": ".py",
   "mimetype": "text/x-python",
   "name": "python",
   "nbconvert_exporter": "python",
   "pygments_lexer": "ipython3",
   "version": "3.6.7"
  },
  "toc": {
   "base_numbering": 1,
   "nav_menu": {},
   "number_sections": false,
   "sideBar": true,
   "skip_h1_title": false,
   "title_cell": "Table of Contents",
   "title_sidebar": "Contents",
   "toc_cell": false,
   "toc_position": {},
   "toc_section_display": true,
   "toc_window_display": false
  },
  "varInspector": {
   "cols": {
    "lenName": 16,
    "lenType": 16,
    "lenVar": 40
   },
   "kernels_config": {
    "python": {
     "delete_cmd_postfix": "",
     "delete_cmd_prefix": "del ",
     "library": "var_list.py",
     "varRefreshCmd": "print(var_dic_list())"
    },
    "r": {
     "delete_cmd_postfix": ") ",
     "delete_cmd_prefix": "rm(",
     "library": "var_list.r",
     "varRefreshCmd": "cat(var_dic_list()) "
    }
   },
   "types_to_exclude": [
    "module",
    "function",
    "builtin_function_or_method",
    "instance",
    "_Feature"
   ],
   "window_display": false
  }
 },
 "nbformat": 4,
 "nbformat_minor": 2
}
